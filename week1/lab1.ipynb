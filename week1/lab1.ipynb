{
 "cells": [
  {
   "cell_type": "markdown",
   "id": "c0bae776",
   "metadata": {},
   "source": [
    "# Creating a Series"
   ]
  },
  {
   "cell_type": "code",
   "execution_count": null,
   "id": "61bd239a",
   "metadata": {},
   "outputs": [
    {
     "name": "stdout",
     "output_type": "stream",
     "text": [
      "0     1\n",
      "1    22\n",
      "2     3\n",
      "3     4\n",
      "dtype: int64\n"
     ]
    }
   ],
   "source": [
    "\n",
    "import pandas as pd\n",
    "data=[1,22,3,4]\n",
    "df=pd.Series(data)\n",
    "print(df)"
   ]
  },
  {
   "cell_type": "markdown",
   "id": "b9f4a1b9",
   "metadata": {},
   "source": [
    "# Creating a DataFrame"
   ]
  },
  {
   "cell_type": "code",
   "execution_count": 2,
   "id": "279d4baa",
   "metadata": {},
   "outputs": [
    {
     "name": "stdout",
     "output_type": "stream",
     "text": [
      "       Marks           Subject\n",
      "CS013     15                DA\n",
      "CS002     13   Cloud Computing\n",
      "BM012     12  Machine Learning\n"
     ]
    }
   ],
   "source": [
    "import pandas as pd\n",
    "data={\"Marks\":[15,13,12],\n",
    "     \"Subject\":[\"DA\",\"Cloud Computing\",\"Machine Learning\"]\n",
    "     }\n",
    "df=pd.DataFrame(data,index=[\"CS013\",\"CS002\",\"BM012\"])\n",
    "print(df)"
   ]
  },
  {
   "cell_type": "code",
   "execution_count": 3,
   "id": "e043d542",
   "metadata": {},
   "outputs": [
    {
     "name": "stdout",
     "output_type": "stream",
     "text": [
      "      Name  Age         City\n",
      "0    Alice   25     New York\n",
      "1      Bob   30  Los Angeles\n",
      "2  Charlie   35      Chicago\n"
     ]
    }
   ],
   "source": [
    "data = {\n",
    " 'Name': ['Alice', 'Bob', 'Charlie'],\n",
    " 'Age': [25, 30, 35],\n",
    " 'City': ['New York', 'Los Angeles', 'Chicago']\n",
    "}\n",
    "df = pd.DataFrame(data)\n",
    "print(df)\n"
   ]
  },
  {
   "cell_type": "markdown",
   "id": "2d53ff84",
   "metadata": {},
   "source": [
    "# Reading Data from Files\n",
    "# Viewing the Data"
   ]
  },
  {
   "cell_type": "code",
   "execution_count": 4,
   "id": "e4e4d124",
   "metadata": {},
   "outputs": [
    {
     "name": "stdout",
     "output_type": "stream",
     "text": [
      "   TransactionID TransactionDate  UserID  ProductID  Quantity\n",
      "0              1      2010-08-21     7.0          2         1\n",
      "1              2      2011-05-26     3.0          4         1\n",
      "2              3      2011-06-16     3.0          3         1\n",
      "3              4      2012-08-26     1.0          2         3\n",
      "4              5      2013-06-06     2.0          4         1\n",
      "5              6      2013-12-23     2.0          5         6\n",
      "6              7      2013-12-30     3.0          4         1\n",
      "7              8      2014-04-24     NaN          2         3\n",
      "8              9      2015-04-24     7.0          4         3\n",
      "9             10      2016-05-08     3.0          4         4\n"
     ]
    }
   ],
   "source": [
    "\n",
    "import pandas as pd\n",
    "df=pd.read_csv(\"transactions.csv\")\n",
    "print(df.head(10))\n"
   ]
  },
  {
   "cell_type": "code",
   "execution_count": 5,
   "id": "f3ff6962",
   "metadata": {},
   "outputs": [
    {
     "name": "stdout",
     "output_type": "stream",
     "text": [
      "   TransactionID TransactionDate  UserID  ProductID  Quantity\n",
      "5              6      2013-12-23     2.0          5         6\n",
      "6              7      2013-12-30     3.0          4         1\n",
      "7              8      2014-04-24     NaN          2         3\n",
      "8              9      2015-04-24     7.0          4         3\n",
      "9             10      2016-05-08     3.0          4         4\n"
     ]
    }
   ],
   "source": [
    "print(df.tail())\n"
   ]
  },
  {
   "cell_type": "code",
   "execution_count": 6,
   "id": "fe7214a0",
   "metadata": {},
   "outputs": [
    {
     "name": "stdout",
     "output_type": "stream",
     "text": [
      "<class 'pandas.core.frame.DataFrame'>\n",
      "RangeIndex: 10 entries, 0 to 9\n",
      "Data columns (total 5 columns):\n",
      " #   Column           Non-Null Count  Dtype  \n",
      "---  ------           --------------  -----  \n",
      " 0   TransactionID    10 non-null     int64  \n",
      " 1   TransactionDate  10 non-null     object \n",
      " 2   UserID           9 non-null      float64\n",
      " 3   ProductID        10 non-null     int64  \n",
      " 4   Quantity         10 non-null     int64  \n",
      "dtypes: float64(1), int64(3), object(1)\n",
      "memory usage: 532.0+ bytes\n",
      "None\n"
     ]
    }
   ],
   "source": [
    "print(df.info())\n"
   ]
  },
  {
   "cell_type": "code",
   "execution_count": 7,
   "id": "e5bd4403",
   "metadata": {},
   "outputs": [
    {
     "name": "stdout",
     "output_type": "stream",
     "text": [
      "       TransactionID    UserID  ProductID   Quantity\n",
      "count       10.00000  9.000000  10.000000  10.000000\n",
      "mean         5.50000  3.444444   3.400000   2.400000\n",
      "std          3.02765  2.127858   1.074968   1.712698\n",
      "min          1.00000  1.000000   2.000000   1.000000\n",
      "25%          3.25000  2.000000   2.250000   1.000000\n",
      "50%          5.50000  3.000000   4.000000   2.000000\n",
      "75%          7.75000  3.000000   4.000000   3.000000\n",
      "max         10.00000  7.000000   5.000000   6.000000\n"
     ]
    }
   ],
   "source": [
    "print(df.describe())"
   ]
  },
  {
   "cell_type": "code",
   "execution_count": 8,
   "id": "552ae1c2",
   "metadata": {},
   "outputs": [
    {
     "name": "stdout",
     "output_type": "stream",
     "text": [
      "0    7.0\n",
      "1    3.0\n",
      "2    3.0\n",
      "3    1.0\n",
      "4    2.0\n",
      "5    2.0\n",
      "6    3.0\n",
      "7    NaN\n",
      "8    7.0\n",
      "9    3.0\n",
      "Name: UserID, dtype: float64\n"
     ]
    }
   ],
   "source": [
    "print(df['UserID'])"
   ]
  },
  {
   "cell_type": "code",
   "execution_count": 9,
   "id": "6a3eddac",
   "metadata": {},
   "outputs": [
    {
     "name": "stdout",
     "output_type": "stream",
     "text": [
      "   UserID  TransactionID  ProductID\n",
      "0     7.0              1          2\n",
      "1     3.0              2          4\n",
      "2     3.0              3          3\n",
      "3     1.0              4          2\n",
      "4     2.0              5          4\n",
      "5     2.0              6          5\n",
      "6     3.0              7          4\n",
      "7     NaN              8          2\n",
      "8     7.0              9          4\n",
      "9     3.0             10          4\n"
     ]
    }
   ],
   "source": [
    "print(df[['UserID','TransactionID','ProductID']])"
   ]
  },
  {
   "cell_type": "code",
   "execution_count": 10,
   "id": "55a7b281",
   "metadata": {},
   "outputs": [
    {
     "name": "stdout",
     "output_type": "stream",
     "text": [
      "TransactionID               2\n",
      "TransactionDate    2011-05-26\n",
      "UserID                    3.0\n",
      "ProductID                   4\n",
      "Quantity                    1\n",
      "Name: 1, dtype: object\n"
     ]
    }
   ],
   "source": [
    "print(df.iloc[1])"
   ]
  },
  {
   "cell_type": "code",
   "execution_count": 11,
   "id": "23c253e9",
   "metadata": {},
   "outputs": [
    {
     "name": "stdout",
     "output_type": "stream",
     "text": [
      "   TransactionID TransactionDate  UserID  ProductID  Quantity\n",
      "7              8      2014-04-24     NaN          2         3\n",
      "2              3      2011-06-16     3.0          3         1\n"
     ]
    }
   ],
   "source": [
    "print(df.iloc[[7,2]])"
   ]
  },
  {
   "cell_type": "markdown",
   "id": "936f4b9f",
   "metadata": {},
   "source": [
    "# Filtering Data"
   ]
  },
  {
   "cell_type": "code",
   "execution_count": 12,
   "id": "b3b3d51e",
   "metadata": {},
   "outputs": [
    {
     "data": {
      "text/html": [
       "<div>\n",
       "<style scoped>\n",
       "    .dataframe tbody tr th:only-of-type {\n",
       "        vertical-align: middle;\n",
       "    }\n",
       "\n",
       "    .dataframe tbody tr th {\n",
       "        vertical-align: top;\n",
       "    }\n",
       "\n",
       "    .dataframe thead th {\n",
       "        text-align: right;\n",
       "    }\n",
       "</style>\n",
       "<table border=\"1\" class=\"dataframe\">\n",
       "  <thead>\n",
       "    <tr style=\"text-align: right;\">\n",
       "      <th></th>\n",
       "      <th>TransactionID</th>\n",
       "      <th>TransactionDate</th>\n",
       "      <th>UserID</th>\n",
       "      <th>ProductID</th>\n",
       "      <th>Quantity</th>\n",
       "    </tr>\n",
       "  </thead>\n",
       "  <tbody>\n",
       "    <tr>\n",
       "      <th>0</th>\n",
       "      <td>1</td>\n",
       "      <td>2010-08-21</td>\n",
       "      <td>7.0</td>\n",
       "      <td>2</td>\n",
       "      <td>1</td>\n",
       "    </tr>\n",
       "    <tr>\n",
       "      <th>1</th>\n",
       "      <td>2</td>\n",
       "      <td>2011-05-26</td>\n",
       "      <td>3.0</td>\n",
       "      <td>4</td>\n",
       "      <td>1</td>\n",
       "    </tr>\n",
       "    <tr>\n",
       "      <th>2</th>\n",
       "      <td>3</td>\n",
       "      <td>2011-06-16</td>\n",
       "      <td>3.0</td>\n",
       "      <td>3</td>\n",
       "      <td>1</td>\n",
       "    </tr>\n",
       "    <tr>\n",
       "      <th>3</th>\n",
       "      <td>4</td>\n",
       "      <td>2012-08-26</td>\n",
       "      <td>1.0</td>\n",
       "      <td>2</td>\n",
       "      <td>3</td>\n",
       "    </tr>\n",
       "    <tr>\n",
       "      <th>4</th>\n",
       "      <td>5</td>\n",
       "      <td>2013-06-06</td>\n",
       "      <td>2.0</td>\n",
       "      <td>4</td>\n",
       "      <td>1</td>\n",
       "    </tr>\n",
       "    <tr>\n",
       "      <th>5</th>\n",
       "      <td>6</td>\n",
       "      <td>2013-12-23</td>\n",
       "      <td>2.0</td>\n",
       "      <td>5</td>\n",
       "      <td>6</td>\n",
       "    </tr>\n",
       "    <tr>\n",
       "      <th>6</th>\n",
       "      <td>7</td>\n",
       "      <td>2013-12-30</td>\n",
       "      <td>3.0</td>\n",
       "      <td>4</td>\n",
       "      <td>1</td>\n",
       "    </tr>\n",
       "    <tr>\n",
       "      <th>7</th>\n",
       "      <td>8</td>\n",
       "      <td>2014-04-24</td>\n",
       "      <td>NaN</td>\n",
       "      <td>2</td>\n",
       "      <td>3</td>\n",
       "    </tr>\n",
       "    <tr>\n",
       "      <th>8</th>\n",
       "      <td>9</td>\n",
       "      <td>2015-04-24</td>\n",
       "      <td>7.0</td>\n",
       "      <td>4</td>\n",
       "      <td>3</td>\n",
       "    </tr>\n",
       "    <tr>\n",
       "      <th>9</th>\n",
       "      <td>10</td>\n",
       "      <td>2016-05-08</td>\n",
       "      <td>3.0</td>\n",
       "      <td>4</td>\n",
       "      <td>4</td>\n",
       "    </tr>\n",
       "  </tbody>\n",
       "</table>\n",
       "</div>"
      ],
      "text/plain": [
       "   TransactionID TransactionDate  UserID  ProductID  Quantity\n",
       "0              1      2010-08-21     7.0          2         1\n",
       "1              2      2011-05-26     3.0          4         1\n",
       "2              3      2011-06-16     3.0          3         1\n",
       "3              4      2012-08-26     1.0          2         3\n",
       "4              5      2013-06-06     2.0          4         1\n",
       "5              6      2013-12-23     2.0          5         6\n",
       "6              7      2013-12-30     3.0          4         1\n",
       "7              8      2014-04-24     NaN          2         3\n",
       "8              9      2015-04-24     7.0          4         3\n",
       "9             10      2016-05-08     3.0          4         4"
      ]
     },
     "execution_count": 12,
     "metadata": {},
     "output_type": "execute_result"
    }
   ],
   "source": [
    "df"
   ]
  },
  {
   "cell_type": "code",
   "execution_count": 13,
   "id": "28a6a326",
   "metadata": {},
   "outputs": [
    {
     "name": "stdout",
     "output_type": "stream",
     "text": [
      "   TransactionID TransactionDate  UserID  ProductID  Quantity\n",
      "1              2      2011-05-26     3.0          4         1\n",
      "4              5      2013-06-06     2.0          4         1\n",
      "5              6      2013-12-23     2.0          5         6\n",
      "6              7      2013-12-30     3.0          4         1\n",
      "8              9      2015-04-24     7.0          4         3\n",
      "9             10      2016-05-08     3.0          4         4\n"
     ]
    }
   ],
   "source": [
    "filtered_df = df[df['ProductID']>3] \n",
    "print(filtered_df)"
   ]
  },
  {
   "cell_type": "markdown",
   "id": "2be24688",
   "metadata": {},
   "source": [
    "# Renaming Columns"
   ]
  },
  {
   "cell_type": "code",
   "execution_count": 14,
   "id": "8d738e70",
   "metadata": {},
   "outputs": [
    {
     "name": "stdout",
     "output_type": "stream",
     "text": [
      "   TransactionID TransactionDate  UserID  ProductID  Quant\n",
      "0              1      2010-08-21     7.0          2      1\n",
      "1              2      2011-05-26     3.0          4      1\n",
      "2              3      2011-06-16     3.0          3      1\n",
      "3              4      2012-08-26     1.0          2      3\n",
      "4              5      2013-06-06     2.0          4      1\n",
      "5              6      2013-12-23     2.0          5      6\n",
      "6              7      2013-12-30     3.0          4      1\n",
      "7              8      2014-04-24     NaN          2      3\n",
      "8              9      2015-04-24     7.0          4      3\n",
      "9             10      2016-05-08     3.0          4      4\n"
     ]
    }
   ],
   "source": [
    "import pandas as pd\n",
    "df = pd.read_csv(\"transactions.csv\")\n",
    "df.rename(columns={\"Quantity\": \"Quant\"}, inplace=True)\n",
    "print(df.head(10))\n"
   ]
  },
  {
   "cell_type": "code",
   "execution_count": 15,
   "id": "526653af",
   "metadata": {},
   "outputs": [
    {
     "name": "stdout",
     "output_type": "stream",
     "text": [
      "   TransactionID TransactionDate  UserID  ProductID  Quantity\n",
      "0              1      2010-08-21     7.0          2         1\n",
      "1              2      2011-05-26     3.0          4         1\n",
      "2              3      2011-06-16     3.0          3         1\n",
      "3              4      2012-08-26     1.0          2         3\n",
      "4              5      2013-06-06     2.0          4         1\n"
     ]
    }
   ],
   "source": [
    "df.rename(columns={\"Quant\":'Quantity'}, inplace=True)\n",
    "print(df.head())"
   ]
  },
  {
   "cell_type": "markdown",
   "id": "83c5000d",
   "metadata": {},
   "source": [
    "# Handling Missing Data"
   ]
  },
  {
   "cell_type": "code",
   "execution_count": 16,
   "id": "edbfd713",
   "metadata": {},
   "outputs": [
    {
     "name": "stdout",
     "output_type": "stream",
     "text": [
      "TransactionID      0\n",
      "TransactionDate    0\n",
      "UserID             1\n",
      "ProductID          0\n",
      "Quantity           0\n",
      "dtype: int64\n"
     ]
    }
   ],
   "source": [
    "# Check for missing values\n",
    "print(df.isnull().sum())"
   ]
  },
  {
   "cell_type": "code",
   "execution_count": 17,
   "id": "545efd6f",
   "metadata": {},
   "outputs": [],
   "source": [
    "# Fill missing values in 'UserID' column\n",
    "df['UserID'].fillna(df['UserID'].mean(), inplace=True)"
   ]
  },
  {
   "cell_type": "code",
   "execution_count": 18,
   "id": "2cdb6f99",
   "metadata": {},
   "outputs": [
    {
     "data": {
      "text/html": [
       "<div>\n",
       "<style scoped>\n",
       "    .dataframe tbody tr th:only-of-type {\n",
       "        vertical-align: middle;\n",
       "    }\n",
       "\n",
       "    .dataframe tbody tr th {\n",
       "        vertical-align: top;\n",
       "    }\n",
       "\n",
       "    .dataframe thead th {\n",
       "        text-align: right;\n",
       "    }\n",
       "</style>\n",
       "<table border=\"1\" class=\"dataframe\">\n",
       "  <thead>\n",
       "    <tr style=\"text-align: right;\">\n",
       "      <th></th>\n",
       "      <th>TransactionID</th>\n",
       "      <th>TransactionDate</th>\n",
       "      <th>UserID</th>\n",
       "      <th>ProductID</th>\n",
       "      <th>Quantity</th>\n",
       "    </tr>\n",
       "  </thead>\n",
       "  <tbody>\n",
       "    <tr>\n",
       "      <th>0</th>\n",
       "      <td>1</td>\n",
       "      <td>2010-08-21</td>\n",
       "      <td>7.000000</td>\n",
       "      <td>2</td>\n",
       "      <td>1</td>\n",
       "    </tr>\n",
       "    <tr>\n",
       "      <th>1</th>\n",
       "      <td>2</td>\n",
       "      <td>2011-05-26</td>\n",
       "      <td>3.000000</td>\n",
       "      <td>4</td>\n",
       "      <td>1</td>\n",
       "    </tr>\n",
       "    <tr>\n",
       "      <th>2</th>\n",
       "      <td>3</td>\n",
       "      <td>2011-06-16</td>\n",
       "      <td>3.000000</td>\n",
       "      <td>3</td>\n",
       "      <td>1</td>\n",
       "    </tr>\n",
       "    <tr>\n",
       "      <th>3</th>\n",
       "      <td>4</td>\n",
       "      <td>2012-08-26</td>\n",
       "      <td>1.000000</td>\n",
       "      <td>2</td>\n",
       "      <td>3</td>\n",
       "    </tr>\n",
       "    <tr>\n",
       "      <th>4</th>\n",
       "      <td>5</td>\n",
       "      <td>2013-06-06</td>\n",
       "      <td>2.000000</td>\n",
       "      <td>4</td>\n",
       "      <td>1</td>\n",
       "    </tr>\n",
       "    <tr>\n",
       "      <th>5</th>\n",
       "      <td>6</td>\n",
       "      <td>2013-12-23</td>\n",
       "      <td>2.000000</td>\n",
       "      <td>5</td>\n",
       "      <td>6</td>\n",
       "    </tr>\n",
       "    <tr>\n",
       "      <th>6</th>\n",
       "      <td>7</td>\n",
       "      <td>2013-12-30</td>\n",
       "      <td>3.000000</td>\n",
       "      <td>4</td>\n",
       "      <td>1</td>\n",
       "    </tr>\n",
       "    <tr>\n",
       "      <th>7</th>\n",
       "      <td>8</td>\n",
       "      <td>2014-04-24</td>\n",
       "      <td>3.444444</td>\n",
       "      <td>2</td>\n",
       "      <td>3</td>\n",
       "    </tr>\n",
       "    <tr>\n",
       "      <th>8</th>\n",
       "      <td>9</td>\n",
       "      <td>2015-04-24</td>\n",
       "      <td>7.000000</td>\n",
       "      <td>4</td>\n",
       "      <td>3</td>\n",
       "    </tr>\n",
       "    <tr>\n",
       "      <th>9</th>\n",
       "      <td>10</td>\n",
       "      <td>2016-05-08</td>\n",
       "      <td>3.000000</td>\n",
       "      <td>4</td>\n",
       "      <td>4</td>\n",
       "    </tr>\n",
       "  </tbody>\n",
       "</table>\n",
       "</div>"
      ],
      "text/plain": [
       "   TransactionID TransactionDate    UserID  ProductID  Quantity\n",
       "0              1      2010-08-21  7.000000          2         1\n",
       "1              2      2011-05-26  3.000000          4         1\n",
       "2              3      2011-06-16  3.000000          3         1\n",
       "3              4      2012-08-26  1.000000          2         3\n",
       "4              5      2013-06-06  2.000000          4         1\n",
       "5              6      2013-12-23  2.000000          5         6\n",
       "6              7      2013-12-30  3.000000          4         1\n",
       "7              8      2014-04-24  3.444444          2         3\n",
       "8              9      2015-04-24  7.000000          4         3\n",
       "9             10      2016-05-08  3.000000          4         4"
      ]
     },
     "execution_count": 18,
     "metadata": {},
     "output_type": "execute_result"
    }
   ],
   "source": [
    "df"
   ]
  },
  {
   "cell_type": "code",
   "execution_count": 19,
   "id": "58b797c7",
   "metadata": {},
   "outputs": [],
   "source": [
    " #Drop rows with missing values\n",
    "df.dropna(inplace=True)"
   ]
  },
  {
   "cell_type": "code",
   "execution_count": 20,
   "id": "585bf0f1",
   "metadata": {},
   "outputs": [
    {
     "data": {
      "text/html": [
       "<div>\n",
       "<style scoped>\n",
       "    .dataframe tbody tr th:only-of-type {\n",
       "        vertical-align: middle;\n",
       "    }\n",
       "\n",
       "    .dataframe tbody tr th {\n",
       "        vertical-align: top;\n",
       "    }\n",
       "\n",
       "    .dataframe thead th {\n",
       "        text-align: right;\n",
       "    }\n",
       "</style>\n",
       "<table border=\"1\" class=\"dataframe\">\n",
       "  <thead>\n",
       "    <tr style=\"text-align: right;\">\n",
       "      <th></th>\n",
       "      <th>TransactionID</th>\n",
       "      <th>TransactionDate</th>\n",
       "      <th>UserID</th>\n",
       "      <th>ProductID</th>\n",
       "      <th>Quantity</th>\n",
       "    </tr>\n",
       "  </thead>\n",
       "  <tbody>\n",
       "    <tr>\n",
       "      <th>0</th>\n",
       "      <td>1</td>\n",
       "      <td>2010-08-21</td>\n",
       "      <td>7.000000</td>\n",
       "      <td>2</td>\n",
       "      <td>1</td>\n",
       "    </tr>\n",
       "    <tr>\n",
       "      <th>1</th>\n",
       "      <td>2</td>\n",
       "      <td>2011-05-26</td>\n",
       "      <td>3.000000</td>\n",
       "      <td>4</td>\n",
       "      <td>1</td>\n",
       "    </tr>\n",
       "    <tr>\n",
       "      <th>2</th>\n",
       "      <td>3</td>\n",
       "      <td>2011-06-16</td>\n",
       "      <td>3.000000</td>\n",
       "      <td>3</td>\n",
       "      <td>1</td>\n",
       "    </tr>\n",
       "    <tr>\n",
       "      <th>3</th>\n",
       "      <td>4</td>\n",
       "      <td>2012-08-26</td>\n",
       "      <td>1.000000</td>\n",
       "      <td>2</td>\n",
       "      <td>3</td>\n",
       "    </tr>\n",
       "    <tr>\n",
       "      <th>4</th>\n",
       "      <td>5</td>\n",
       "      <td>2013-06-06</td>\n",
       "      <td>2.000000</td>\n",
       "      <td>4</td>\n",
       "      <td>1</td>\n",
       "    </tr>\n",
       "    <tr>\n",
       "      <th>5</th>\n",
       "      <td>6</td>\n",
       "      <td>2013-12-23</td>\n",
       "      <td>2.000000</td>\n",
       "      <td>5</td>\n",
       "      <td>6</td>\n",
       "    </tr>\n",
       "    <tr>\n",
       "      <th>6</th>\n",
       "      <td>7</td>\n",
       "      <td>2013-12-30</td>\n",
       "      <td>3.000000</td>\n",
       "      <td>4</td>\n",
       "      <td>1</td>\n",
       "    </tr>\n",
       "    <tr>\n",
       "      <th>7</th>\n",
       "      <td>8</td>\n",
       "      <td>2014-04-24</td>\n",
       "      <td>3.444444</td>\n",
       "      <td>2</td>\n",
       "      <td>3</td>\n",
       "    </tr>\n",
       "    <tr>\n",
       "      <th>8</th>\n",
       "      <td>9</td>\n",
       "      <td>2015-04-24</td>\n",
       "      <td>7.000000</td>\n",
       "      <td>4</td>\n",
       "      <td>3</td>\n",
       "    </tr>\n",
       "    <tr>\n",
       "      <th>9</th>\n",
       "      <td>10</td>\n",
       "      <td>2016-05-08</td>\n",
       "      <td>3.000000</td>\n",
       "      <td>4</td>\n",
       "      <td>4</td>\n",
       "    </tr>\n",
       "  </tbody>\n",
       "</table>\n",
       "</div>"
      ],
      "text/plain": [
       "   TransactionID TransactionDate    UserID  ProductID  Quantity\n",
       "0              1      2010-08-21  7.000000          2         1\n",
       "1              2      2011-05-26  3.000000          4         1\n",
       "2              3      2011-06-16  3.000000          3         1\n",
       "3              4      2012-08-26  1.000000          2         3\n",
       "4              5      2013-06-06  2.000000          4         1\n",
       "5              6      2013-12-23  2.000000          5         6\n",
       "6              7      2013-12-30  3.000000          4         1\n",
       "7              8      2014-04-24  3.444444          2         3\n",
       "8              9      2015-04-24  7.000000          4         3\n",
       "9             10      2016-05-08  3.000000          4         4"
      ]
     },
     "execution_count": 20,
     "metadata": {},
     "output_type": "execute_result"
    }
   ],
   "source": [
    "df"
   ]
  },
  {
   "cell_type": "code",
   "execution_count": 47,
   "id": "1db211c4",
   "metadata": {},
   "outputs": [
    {
     "name": "stdout",
     "output_type": "stream",
     "text": [
      "   TransactionID TransactionDate  UserID  ProductID  Quantity\n",
      "6              7      2013-12-30     3.0          4         1\n",
      "4              5      2013-06-06     2.0          4         1\n",
      "2              3      2011-06-16     3.0          3         1\n",
      "1              2      2011-05-26     3.0          4         1\n",
      "0              1      2010-08-21     7.0          2         1\n",
      "8              9      2015-04-24     7.0          4         3\n",
      "7              8      2014-04-24     NaN          2         3\n",
      "3              4      2012-08-26     1.0          2         3\n",
      "9             10      2016-05-08     3.0          4         4\n",
      "5              6      2013-12-23     2.0          5         6\n"
     ]
    }
   ],
   "source": [
    "import pandas as pd\n",
    "df = pd.read_csv(\"transactions.csv\")\n",
    "df_sorted = df.sort_values(by=[\"Quantity\", \"TransactionDate\"], \n",
    "ascending=[True, False])\n",
    "print(df_sorted.head(10))\n"
   ]
  },
  {
   "cell_type": "code",
   "execution_count": 22,
   "id": "23351fa5",
   "metadata": {},
   "outputs": [
    {
     "name": "stdout",
     "output_type": "stream",
     "text": [
      "   TransactionID TransactionDate  UserID  ProductID  Quantity\n",
      "9             10      2016-05-08     3.0          4         4\n",
      "8              9      2015-04-24     7.0          4         3\n",
      "7              8      2014-04-24     NaN          2         3\n",
      "6              7      2013-12-30     3.0          4         1\n",
      "5              6      2013-12-23     2.0          5         6\n",
      "4              5      2013-06-06     2.0          4         1\n",
      "3              4      2012-08-26     1.0          2         3\n",
      "2              3      2011-06-16     3.0          3         1\n",
      "1              2      2011-05-26     3.0          4         1\n",
      "0              1      2010-08-21     7.0          2         1\n"
     ]
    }
   ],
   "source": [
    "df_sorted = df.sort_values(by=[\"TransactionDate\"],\n",
    "ascending=False)\n",
    "print(df_sorted.head(10))"
   ]
  },
  {
   "cell_type": "markdown",
   "id": "7181e6e4",
   "metadata": {},
   "source": [
    "# Subsetting data"
   ]
  },
  {
   "cell_type": "code",
   "execution_count": 23,
   "id": "1df8f768",
   "metadata": {},
   "outputs": [
    {
     "name": "stdout",
     "output_type": "stream",
     "text": [
      "   TransactionID TransactionDate  UserID  ProductID  Quantity\n",
      "3              4      2012-08-26     1.0          2         3\n",
      "5              6      2013-12-23     2.0          5         6\n",
      "7              8      2014-04-24     NaN          2         3\n",
      "8              9      2015-04-24     7.0          4         3\n",
      "9             10      2016-05-08     3.0          4         4\n"
     ]
    }
   ],
   "source": [
    "subset = df[df['Quantity'] > 1]\n",
    "print(subset)\n"
   ]
  },
  {
   "cell_type": "code",
   "execution_count": 24,
   "id": "48f362fd",
   "metadata": {},
   "outputs": [
    {
     "name": "stdout",
     "output_type": "stream",
     "text": [
      "   TransactionID TransactionDate  UserID  ProductID  Quantity\n",
      "0              1      2010-08-21     7.0          2         1\n",
      "2              3      2011-06-16     3.0          3         1\n",
      "5              6      2013-12-23     2.0          5         6\n"
     ]
    }
   ],
   "source": [
    "subset_rows = df.iloc[[0, 2, 5]] \n",
    "print(subset_rows)\n"
   ]
  },
  {
   "cell_type": "code",
   "execution_count": 25,
   "id": "d671ad5f",
   "metadata": {},
   "outputs": [
    {
     "data": {
      "text/html": [
       "<div>\n",
       "<style scoped>\n",
       "    .dataframe tbody tr th:only-of-type {\n",
       "        vertical-align: middle;\n",
       "    }\n",
       "\n",
       "    .dataframe tbody tr th {\n",
       "        vertical-align: top;\n",
       "    }\n",
       "\n",
       "    .dataframe thead th {\n",
       "        text-align: right;\n",
       "    }\n",
       "</style>\n",
       "<table border=\"1\" class=\"dataframe\">\n",
       "  <thead>\n",
       "    <tr style=\"text-align: right;\">\n",
       "      <th></th>\n",
       "      <th>TransactionID</th>\n",
       "      <th>TransactionDate</th>\n",
       "      <th>UserID</th>\n",
       "      <th>ProductID</th>\n",
       "      <th>Quantity</th>\n",
       "    </tr>\n",
       "  </thead>\n",
       "  <tbody>\n",
       "    <tr>\n",
       "      <th>0</th>\n",
       "      <td>1</td>\n",
       "      <td>2010-08-21</td>\n",
       "      <td>7.0</td>\n",
       "      <td>2</td>\n",
       "      <td>1</td>\n",
       "    </tr>\n",
       "    <tr>\n",
       "      <th>1</th>\n",
       "      <td>2</td>\n",
       "      <td>2011-05-26</td>\n",
       "      <td>3.0</td>\n",
       "      <td>4</td>\n",
       "      <td>1</td>\n",
       "    </tr>\n",
       "    <tr>\n",
       "      <th>2</th>\n",
       "      <td>3</td>\n",
       "      <td>2011-06-16</td>\n",
       "      <td>3.0</td>\n",
       "      <td>3</td>\n",
       "      <td>1</td>\n",
       "    </tr>\n",
       "    <tr>\n",
       "      <th>3</th>\n",
       "      <td>4</td>\n",
       "      <td>2012-08-26</td>\n",
       "      <td>1.0</td>\n",
       "      <td>2</td>\n",
       "      <td>3</td>\n",
       "    </tr>\n",
       "    <tr>\n",
       "      <th>4</th>\n",
       "      <td>5</td>\n",
       "      <td>2013-06-06</td>\n",
       "      <td>2.0</td>\n",
       "      <td>4</td>\n",
       "      <td>1</td>\n",
       "    </tr>\n",
       "    <tr>\n",
       "      <th>5</th>\n",
       "      <td>6</td>\n",
       "      <td>2013-12-23</td>\n",
       "      <td>2.0</td>\n",
       "      <td>5</td>\n",
       "      <td>6</td>\n",
       "    </tr>\n",
       "    <tr>\n",
       "      <th>6</th>\n",
       "      <td>7</td>\n",
       "      <td>2013-12-30</td>\n",
       "      <td>3.0</td>\n",
       "      <td>4</td>\n",
       "      <td>1</td>\n",
       "    </tr>\n",
       "    <tr>\n",
       "      <th>7</th>\n",
       "      <td>8</td>\n",
       "      <td>2014-04-24</td>\n",
       "      <td>NaN</td>\n",
       "      <td>2</td>\n",
       "      <td>3</td>\n",
       "    </tr>\n",
       "    <tr>\n",
       "      <th>8</th>\n",
       "      <td>9</td>\n",
       "      <td>2015-04-24</td>\n",
       "      <td>7.0</td>\n",
       "      <td>4</td>\n",
       "      <td>3</td>\n",
       "    </tr>\n",
       "    <tr>\n",
       "      <th>9</th>\n",
       "      <td>10</td>\n",
       "      <td>2016-05-08</td>\n",
       "      <td>3.0</td>\n",
       "      <td>4</td>\n",
       "      <td>4</td>\n",
       "    </tr>\n",
       "  </tbody>\n",
       "</table>\n",
       "</div>"
      ],
      "text/plain": [
       "   TransactionID TransactionDate  UserID  ProductID  Quantity\n",
       "0              1      2010-08-21     7.0          2         1\n",
       "1              2      2011-05-26     3.0          4         1\n",
       "2              3      2011-06-16     3.0          3         1\n",
       "3              4      2012-08-26     1.0          2         3\n",
       "4              5      2013-06-06     2.0          4         1\n",
       "5              6      2013-12-23     2.0          5         6\n",
       "6              7      2013-12-30     3.0          4         1\n",
       "7              8      2014-04-24     NaN          2         3\n",
       "8              9      2015-04-24     7.0          4         3\n",
       "9             10      2016-05-08     3.0          4         4"
      ]
     },
     "execution_count": 25,
     "metadata": {},
     "output_type": "execute_result"
    }
   ],
   "source": [
    "df"
   ]
  },
  {
   "cell_type": "code",
   "execution_count": 26,
   "id": "c470a67f",
   "metadata": {},
   "outputs": [
    {
     "name": "stdout",
     "output_type": "stream",
     "text": [
      "   TransactionID TransactionDate  UserID  ProductID  Quantity\n",
      "0              1      2010-08-21     7.0          2         1\n",
      "2              3      2011-06-16     3.0          3         1\n",
      "4              5      2013-06-06     2.0          4         1\n",
      "6              7      2013-12-30     3.0          4         1\n",
      "8              9      2015-04-24     7.0          4         3\n"
     ]
    }
   ],
   "source": [
    "#Subset rows where an external array, foo, is True\n",
    "\n",
    "foo = [True, False, True, False,True,False,True,False,True,False] # Example of a boolean array\n",
    "subset_rows = df[foo]\n",
    "print(subset_rows)"
   ]
  },
  {
   "cell_type": "code",
   "execution_count": 27,
   "id": "dc391ff0",
   "metadata": {},
   "outputs": [
    {
     "name": "stdout",
     "output_type": "stream",
     "text": [
      "   TransactionID TransactionDate\n",
      "3              4      2012-08-26\n",
      "5              6      2013-12-23\n",
      "7              8      2014-04-24\n",
      "8              9      2015-04-24\n",
      "9             10      2016-05-08\n"
     ]
    }
   ],
   "source": [
    "#Subset by columns TransactionID and TransactionDate with logical operator\n",
    "\n",
    "subset = df[df['Quantity'] > 1][['TransactionID', \n",
    "'TransactionDate']]\n",
    "print(subset)\n"
   ]
  },
  {
   "cell_type": "code",
   "execution_count": 28,
   "id": "2cf59f4b",
   "metadata": {},
   "outputs": [
    {
     "name": "stdout",
     "output_type": "stream",
     "text": [
      "   TransactionID TransactionDate\n",
      "0              1      2010-08-21\n",
      "1              2      2011-05-26\n",
      "2              3      2011-06-16\n",
      "3              4      2012-08-26\n",
      "4              5      2013-06-06\n",
      "5              6      2013-12-23\n",
      "6              7      2013-12-30\n",
      "7              8      2014-04-24\n",
      "8              9      2015-04-24\n",
      "9             10      2016-05-08\n"
     ]
    }
   ],
   "source": [
    "#Subset columns by a variable list of column names\n",
    "\n",
    "columns_to_select = ['TransactionID', 'TransactionDate']\n",
    "subset_columns = df[columns_to_select]\n",
    "print(subset_columns)\n"
   ]
  },
  {
   "cell_type": "code",
   "execution_count": 29,
   "id": "a93e53fb",
   "metadata": {},
   "outputs": [
    {
     "name": "stdout",
     "output_type": "stream",
     "text": [
      "   TransactionID TransactionDate  UserID\n",
      "0              1      2010-08-21     7.0\n",
      "1              2      2011-05-26     3.0\n",
      "2              3      2011-06-16     3.0\n",
      "3              4      2012-08-26     1.0\n",
      "4              5      2013-06-06     2.0\n",
      "5              6      2013-12-23     2.0\n",
      "6              7      2013-12-30     3.0\n",
      "7              8      2014-04-24     NaN\n",
      "8              9      2015-04-24     7.0\n",
      "9             10      2016-05-08     3.0\n"
     ]
    }
   ],
   "source": [
    "#Subset columns excluding a variable list of column names\n",
    "\n",
    "columns_to_exclude = ['Quantity', 'ProductID']\n",
    "subset_columns_excluded = df[[col for col in df.columns if col not \n",
    "in columns_to_exclude]]\n",
    "print(subset_columns_excluded)"
   ]
  },
  {
   "cell_type": "code",
   "execution_count": 30,
   "id": "9eb72cbc",
   "metadata": {},
   "outputs": [
    {
     "name": "stdout",
     "output_type": "stream",
     "text": [
      "TransactionID               int64\n",
      "TransactionDate    datetime64[ns]\n",
      "UserID                    float64\n",
      "ProductID                   int64\n",
      "Quantity                    int64\n",
      "dtype: object\n"
     ]
    }
   ],
   "source": [
    "#Convert the TransactionDate column to type Date\n",
    "\n",
    "'''To convert a column in a pandas DataFrame to the datetime type, \n",
    "you can use the pd.to_datetime() function.'''\n",
    "\n",
    "df['TransactionDate'] = pd.to_datetime(df['TransactionDate']) \n",
    "print(df.dtypes)\n"
   ]
  },
  {
   "cell_type": "code",
   "execution_count": 31,
   "id": "768f69f8",
   "metadata": {},
   "outputs": [
    {
     "data": {
      "text/html": [
       "<div>\n",
       "<style scoped>\n",
       "    .dataframe tbody tr th:only-of-type {\n",
       "        vertical-align: middle;\n",
       "    }\n",
       "\n",
       "    .dataframe tbody tr th {\n",
       "        vertical-align: top;\n",
       "    }\n",
       "\n",
       "    .dataframe thead th {\n",
       "        text-align: right;\n",
       "    }\n",
       "</style>\n",
       "<table border=\"1\" class=\"dataframe\">\n",
       "  <thead>\n",
       "    <tr style=\"text-align: right;\">\n",
       "      <th></th>\n",
       "      <th>TransactionID</th>\n",
       "      <th>TransactionDate</th>\n",
       "      <th>UserID</th>\n",
       "      <th>ProductID</th>\n",
       "      <th>Quantity</th>\n",
       "    </tr>\n",
       "  </thead>\n",
       "  <tbody>\n",
       "    <tr>\n",
       "      <th>0</th>\n",
       "      <td>1</td>\n",
       "      <td>2010-08-21</td>\n",
       "      <td>7.0</td>\n",
       "      <td>2</td>\n",
       "      <td>1</td>\n",
       "    </tr>\n",
       "    <tr>\n",
       "      <th>1</th>\n",
       "      <td>2</td>\n",
       "      <td>2011-05-26</td>\n",
       "      <td>3.0</td>\n",
       "      <td>4</td>\n",
       "      <td>1</td>\n",
       "    </tr>\n",
       "    <tr>\n",
       "      <th>2</th>\n",
       "      <td>3</td>\n",
       "      <td>2011-06-16</td>\n",
       "      <td>3.0</td>\n",
       "      <td>3</td>\n",
       "      <td>1</td>\n",
       "    </tr>\n",
       "    <tr>\n",
       "      <th>3</th>\n",
       "      <td>4</td>\n",
       "      <td>2012-08-26</td>\n",
       "      <td>1.0</td>\n",
       "      <td>2</td>\n",
       "      <td>3</td>\n",
       "    </tr>\n",
       "    <tr>\n",
       "      <th>4</th>\n",
       "      <td>5</td>\n",
       "      <td>2013-06-06</td>\n",
       "      <td>2.0</td>\n",
       "      <td>4</td>\n",
       "      <td>1</td>\n",
       "    </tr>\n",
       "    <tr>\n",
       "      <th>5</th>\n",
       "      <td>6</td>\n",
       "      <td>2013-12-23</td>\n",
       "      <td>2.0</td>\n",
       "      <td>5</td>\n",
       "      <td>6</td>\n",
       "    </tr>\n",
       "    <tr>\n",
       "      <th>6</th>\n",
       "      <td>7</td>\n",
       "      <td>2013-12-30</td>\n",
       "      <td>3.0</td>\n",
       "      <td>4</td>\n",
       "      <td>1</td>\n",
       "    </tr>\n",
       "    <tr>\n",
       "      <th>7</th>\n",
       "      <td>8</td>\n",
       "      <td>2014-04-24</td>\n",
       "      <td>NaN</td>\n",
       "      <td>2</td>\n",
       "      <td>3</td>\n",
       "    </tr>\n",
       "    <tr>\n",
       "      <th>8</th>\n",
       "      <td>9</td>\n",
       "      <td>2015-04-24</td>\n",
       "      <td>7.0</td>\n",
       "      <td>4</td>\n",
       "      <td>3</td>\n",
       "    </tr>\n",
       "    <tr>\n",
       "      <th>9</th>\n",
       "      <td>10</td>\n",
       "      <td>2016-05-08</td>\n",
       "      <td>3.0</td>\n",
       "      <td>4</td>\n",
       "      <td>4</td>\n",
       "    </tr>\n",
       "  </tbody>\n",
       "</table>\n",
       "</div>"
      ],
      "text/plain": [
       "   TransactionID TransactionDate  UserID  ProductID  Quantity\n",
       "0              1      2010-08-21     7.0          2         1\n",
       "1              2      2011-05-26     3.0          4         1\n",
       "2              3      2011-06-16     3.0          3         1\n",
       "3              4      2012-08-26     1.0          2         3\n",
       "4              5      2013-06-06     2.0          4         1\n",
       "5              6      2013-12-23     2.0          5         6\n",
       "6              7      2013-12-30     3.0          4         1\n",
       "7              8      2014-04-24     NaN          2         3\n",
       "8              9      2015-04-24     7.0          4         3\n",
       "9             10      2016-05-08     3.0          4         4"
      ]
     },
     "execution_count": 31,
     "metadata": {},
     "output_type": "execute_result"
    }
   ],
   "source": [
    "df"
   ]
  },
  {
   "cell_type": "code",
   "execution_count": 32,
   "id": "8f77f3f5",
   "metadata": {},
   "outputs": [
    {
     "name": "stdout",
     "output_type": "stream",
     "text": [
      "   TransactionID TransactionDate  UserID  ProductID  Quantity   Foo\n",
      "0              1      2010-08-21     7.0          2         1   9.0\n",
      "1              2      2011-05-26     3.0          4         1   7.0\n",
      "2              3      2011-06-16     3.0          3         1   6.0\n",
      "3              4      2012-08-26     1.0          2         3   3.0\n",
      "4              5      2013-06-06     2.0          4         1   6.0\n",
      "5              6      2013-12-23     2.0          5         6   7.0\n",
      "6              7      2013-12-30     3.0          4         1   7.0\n",
      "7              8      2014-04-24     NaN          2         3   NaN\n",
      "8              9      2015-04-24     7.0          4         3  11.0\n",
      "9             10      2016-05-08     3.0          4         4   7.0\n"
     ]
    }
   ],
   "source": [
    "#Insert a new column, Foo = UserID + ProductID\n",
    "\n",
    "df['Foo'] = df['UserID'] + df['ProductID']\n",
    "print(df.head(10))"
   ]
  },
  {
   "cell_type": "code",
   "execution_count": 41,
   "id": "61ae2130",
   "metadata": {},
   "outputs": [],
   "source": [
    "#Inserting a New Row\n",
    "\n",
    "df.loc[len(df)] = [11, pd.Timestamp('2010-12-26'), 6, 5, 5,9.0]\n",
    "\n"
   ]
  },
  {
   "cell_type": "code",
   "execution_count": 44,
   "id": "680cd904",
   "metadata": {},
   "outputs": [
    {
     "name": "stdout",
     "output_type": "stream",
     "text": [
      "Index(['TransactionID', 'TransactionDate', 'UID', 'PID', 'Quant', 'Foo'], dtype='object')\n"
     ]
    }
   ],
   "source": [
    "#Updating Existing Values\n",
    "print(df.columns)\n",
    "\n",
    "df.loc[df['UID'] == 2, 'Quant'] = 2"
   ]
  },
  {
   "cell_type": "code",
   "execution_count": 45,
   "id": "c88a9261",
   "metadata": {},
   "outputs": [
    {
     "data": {
      "text/html": [
       "<div>\n",
       "<style scoped>\n",
       "    .dataframe tbody tr th:only-of-type {\n",
       "        vertical-align: middle;\n",
       "    }\n",
       "\n",
       "    .dataframe tbody tr th {\n",
       "        vertical-align: top;\n",
       "    }\n",
       "\n",
       "    .dataframe thead th {\n",
       "        text-align: right;\n",
       "    }\n",
       "</style>\n",
       "<table border=\"1\" class=\"dataframe\">\n",
       "  <thead>\n",
       "    <tr style=\"text-align: right;\">\n",
       "      <th></th>\n",
       "      <th>TransactionID</th>\n",
       "      <th>TransactionDate</th>\n",
       "      <th>UID</th>\n",
       "      <th>PID</th>\n",
       "      <th>Quant</th>\n",
       "      <th>Foo</th>\n",
       "    </tr>\n",
       "  </thead>\n",
       "  <tbody>\n",
       "    <tr>\n",
       "      <th>0</th>\n",
       "      <td>1</td>\n",
       "      <td>2010-08-21</td>\n",
       "      <td>7.0</td>\n",
       "      <td>2</td>\n",
       "      <td>1</td>\n",
       "      <td>9.0</td>\n",
       "    </tr>\n",
       "    <tr>\n",
       "      <th>1</th>\n",
       "      <td>2</td>\n",
       "      <td>2011-05-26</td>\n",
       "      <td>3.0</td>\n",
       "      <td>4</td>\n",
       "      <td>1</td>\n",
       "      <td>7.0</td>\n",
       "    </tr>\n",
       "    <tr>\n",
       "      <th>2</th>\n",
       "      <td>3</td>\n",
       "      <td>2011-06-16</td>\n",
       "      <td>3.0</td>\n",
       "      <td>3</td>\n",
       "      <td>1</td>\n",
       "      <td>6.0</td>\n",
       "    </tr>\n",
       "    <tr>\n",
       "      <th>3</th>\n",
       "      <td>4</td>\n",
       "      <td>2012-08-26</td>\n",
       "      <td>1.0</td>\n",
       "      <td>2</td>\n",
       "      <td>3</td>\n",
       "      <td>3.0</td>\n",
       "    </tr>\n",
       "    <tr>\n",
       "      <th>4</th>\n",
       "      <td>5</td>\n",
       "      <td>2013-06-06</td>\n",
       "      <td>2.0</td>\n",
       "      <td>4</td>\n",
       "      <td>2</td>\n",
       "      <td>6.0</td>\n",
       "    </tr>\n",
       "    <tr>\n",
       "      <th>5</th>\n",
       "      <td>6</td>\n",
       "      <td>2013-12-23</td>\n",
       "      <td>2.0</td>\n",
       "      <td>5</td>\n",
       "      <td>2</td>\n",
       "      <td>7.0</td>\n",
       "    </tr>\n",
       "    <tr>\n",
       "      <th>6</th>\n",
       "      <td>7</td>\n",
       "      <td>2013-12-30</td>\n",
       "      <td>3.0</td>\n",
       "      <td>4</td>\n",
       "      <td>1</td>\n",
       "      <td>7.0</td>\n",
       "    </tr>\n",
       "    <tr>\n",
       "      <th>7</th>\n",
       "      <td>8</td>\n",
       "      <td>2014-04-24</td>\n",
       "      <td>NaN</td>\n",
       "      <td>2</td>\n",
       "      <td>3</td>\n",
       "      <td>NaN</td>\n",
       "    </tr>\n",
       "    <tr>\n",
       "      <th>8</th>\n",
       "      <td>9</td>\n",
       "      <td>2015-04-24</td>\n",
       "      <td>7.0</td>\n",
       "      <td>4</td>\n",
       "      <td>3</td>\n",
       "      <td>11.0</td>\n",
       "    </tr>\n",
       "    <tr>\n",
       "      <th>9</th>\n",
       "      <td>10</td>\n",
       "      <td>2016-05-08</td>\n",
       "      <td>3.0</td>\n",
       "      <td>4</td>\n",
       "      <td>4</td>\n",
       "      <td>7.0</td>\n",
       "    </tr>\n",
       "    <tr>\n",
       "      <th>10</th>\n",
       "      <td>11</td>\n",
       "      <td>2010-12-26</td>\n",
       "      <td>6.0</td>\n",
       "      <td>5</td>\n",
       "      <td>5</td>\n",
       "      <td>9.0</td>\n",
       "    </tr>\n",
       "  </tbody>\n",
       "</table>\n",
       "</div>"
      ],
      "text/plain": [
       "    TransactionID TransactionDate  UID  PID  Quant   Foo\n",
       "0               1      2010-08-21  7.0    2      1   9.0\n",
       "1               2      2011-05-26  3.0    4      1   7.0\n",
       "2               3      2011-06-16  3.0    3      1   6.0\n",
       "3               4      2012-08-26  1.0    2      3   3.0\n",
       "4               5      2013-06-06  2.0    4      2   6.0\n",
       "5               6      2013-12-23  2.0    5      2   7.0\n",
       "6               7      2013-12-30  3.0    4      1   7.0\n",
       "7               8      2014-04-24  NaN    2      3   NaN\n",
       "8               9      2015-04-24  7.0    4      3  11.0\n",
       "9              10      2016-05-08  3.0    4      4   7.0\n",
       "10             11      2010-12-26  6.0    5      5   9.0"
      ]
     },
     "execution_count": 45,
     "metadata": {},
     "output_type": "execute_result"
    }
   ],
   "source": [
    "df"
   ]
  },
  {
   "cell_type": "code",
   "execution_count": 49,
   "id": "b7ce4c79",
   "metadata": {},
   "outputs": [],
   "source": [
    "df.loc[df['UserID'] == 6, 'TransactionDate'] = pd.Timestamp('2010-12-26')"
   ]
  },
  {
   "cell_type": "code",
   "execution_count": 50,
   "id": "f8b694c2",
   "metadata": {},
   "outputs": [
    {
     "data": {
      "text/html": [
       "<div>\n",
       "<style scoped>\n",
       "    .dataframe tbody tr th:only-of-type {\n",
       "        vertical-align: middle;\n",
       "    }\n",
       "\n",
       "    .dataframe tbody tr th {\n",
       "        vertical-align: top;\n",
       "    }\n",
       "\n",
       "    .dataframe thead th {\n",
       "        text-align: right;\n",
       "    }\n",
       "</style>\n",
       "<table border=\"1\" class=\"dataframe\">\n",
       "  <thead>\n",
       "    <tr style=\"text-align: right;\">\n",
       "      <th></th>\n",
       "      <th>TransactionID</th>\n",
       "      <th>TransactionDate</th>\n",
       "      <th>UserID</th>\n",
       "      <th>ProductID</th>\n",
       "      <th>Quantity</th>\n",
       "    </tr>\n",
       "  </thead>\n",
       "  <tbody>\n",
       "    <tr>\n",
       "      <th>0</th>\n",
       "      <td>1</td>\n",
       "      <td>2010-08-21</td>\n",
       "      <td>7.0</td>\n",
       "      <td>2</td>\n",
       "      <td>1</td>\n",
       "    </tr>\n",
       "    <tr>\n",
       "      <th>1</th>\n",
       "      <td>2</td>\n",
       "      <td>2011-05-26</td>\n",
       "      <td>3.0</td>\n",
       "      <td>4</td>\n",
       "      <td>1</td>\n",
       "    </tr>\n",
       "    <tr>\n",
       "      <th>2</th>\n",
       "      <td>3</td>\n",
       "      <td>2011-06-16</td>\n",
       "      <td>3.0</td>\n",
       "      <td>3</td>\n",
       "      <td>1</td>\n",
       "    </tr>\n",
       "    <tr>\n",
       "      <th>3</th>\n",
       "      <td>4</td>\n",
       "      <td>2012-08-26</td>\n",
       "      <td>1.0</td>\n",
       "      <td>2</td>\n",
       "      <td>3</td>\n",
       "    </tr>\n",
       "    <tr>\n",
       "      <th>4</th>\n",
       "      <td>5</td>\n",
       "      <td>2013-06-06</td>\n",
       "      <td>2.0</td>\n",
       "      <td>4</td>\n",
       "      <td>1</td>\n",
       "    </tr>\n",
       "    <tr>\n",
       "      <th>5</th>\n",
       "      <td>6</td>\n",
       "      <td>2013-12-23</td>\n",
       "      <td>2.0</td>\n",
       "      <td>5</td>\n",
       "      <td>6</td>\n",
       "    </tr>\n",
       "    <tr>\n",
       "      <th>6</th>\n",
       "      <td>7</td>\n",
       "      <td>2013-12-30</td>\n",
       "      <td>3.0</td>\n",
       "      <td>4</td>\n",
       "      <td>1</td>\n",
       "    </tr>\n",
       "    <tr>\n",
       "      <th>7</th>\n",
       "      <td>8</td>\n",
       "      <td>2014-04-24</td>\n",
       "      <td>NaN</td>\n",
       "      <td>2</td>\n",
       "      <td>3</td>\n",
       "    </tr>\n",
       "    <tr>\n",
       "      <th>8</th>\n",
       "      <td>9</td>\n",
       "      <td>2015-04-24</td>\n",
       "      <td>7.0</td>\n",
       "      <td>4</td>\n",
       "      <td>3</td>\n",
       "    </tr>\n",
       "    <tr>\n",
       "      <th>9</th>\n",
       "      <td>10</td>\n",
       "      <td>2016-05-08</td>\n",
       "      <td>3.0</td>\n",
       "      <td>4</td>\n",
       "      <td>4</td>\n",
       "    </tr>\n",
       "  </tbody>\n",
       "</table>\n",
       "</div>"
      ],
      "text/plain": [
       "   TransactionID TransactionDate  UserID  ProductID  Quantity\n",
       "0              1      2010-08-21     7.0          2         1\n",
       "1              2      2011-05-26     3.0          4         1\n",
       "2              3      2011-06-16     3.0          3         1\n",
       "3              4      2012-08-26     1.0          2         3\n",
       "4              5      2013-06-06     2.0          4         1\n",
       "5              6      2013-12-23     2.0          5         6\n",
       "6              7      2013-12-30     3.0          4         1\n",
       "7              8      2014-04-24     NaN          2         3\n",
       "8              9      2015-04-24     7.0          4         3\n",
       "9             10      2016-05-08     3.0          4         4"
      ]
     },
     "execution_count": 50,
     "metadata": {},
     "output_type": "execute_result"
    }
   ],
   "source": [
    "df"
   ]
  },
  {
   "cell_type": "code",
   "execution_count": 51,
   "id": "3bb7bdfb",
   "metadata": {},
   "outputs": [],
   "source": [
    "#Inserting a New Column\n",
    "\n",
    "df['Foo'] = df['UserID'] + df['ProductID']"
   ]
  },
  {
   "cell_type": "markdown",
   "id": "b441949e",
   "metadata": {},
   "source": [
    "# Modifying data frames"
   ]
  },
  {
   "cell_type": "code",
   "execution_count": 52,
   "id": "cf4c17b1",
   "metadata": {},
   "outputs": [
    {
     "name": "stdout",
     "output_type": "stream",
     "text": [
      "   TransactionID TransactionDate  UserID  ProductID  Quantity   Foo  NewColumn\n",
      "0              1      2010-08-21     7.0          2         1   9.0          2\n",
      "1              2      2011-05-26     3.0          4         1   7.0          2\n",
      "2              3      2011-06-16     3.0          3         1   6.0          2\n",
      "3              4      2012-08-26     1.0          2         3   3.0          6\n",
      "4              5      2013-06-06     2.0          4         1   6.0          2\n",
      "5              6      2013-12-23     2.0          5         6   7.0         12\n",
      "6              7      2013-12-30     3.0          4         1   7.0          2\n",
      "7              8      2014-04-24     NaN          2         3   NaN          6\n",
      "8              9      2015-04-24     7.0          4         3  11.0          6\n",
      "9             10      2016-05-08     3.0          4         4   7.0          8\n"
     ]
    }
   ],
   "source": [
    "df['NewColumn'] = df['Quantity'] * 2\n",
    "print(df.head(10))\n"
   ]
  },
  {
   "cell_type": "markdown",
   "id": "acd99980",
   "metadata": {},
   "source": [
    "# Handling dates"
   ]
  },
  {
   "cell_type": "code",
   "execution_count": 53,
   "id": "1bf6167c",
   "metadata": {},
   "outputs": [
    {
     "data": {
      "text/html": [
       "<div>\n",
       "<style scoped>\n",
       "    .dataframe tbody tr th:only-of-type {\n",
       "        vertical-align: middle;\n",
       "    }\n",
       "\n",
       "    .dataframe tbody tr th {\n",
       "        vertical-align: top;\n",
       "    }\n",
       "\n",
       "    .dataframe thead th {\n",
       "        text-align: right;\n",
       "    }\n",
       "</style>\n",
       "<table border=\"1\" class=\"dataframe\">\n",
       "  <thead>\n",
       "    <tr style=\"text-align: right;\">\n",
       "      <th></th>\n",
       "      <th>TransactionID</th>\n",
       "      <th>TransactionDate</th>\n",
       "      <th>UserID</th>\n",
       "      <th>ProductID</th>\n",
       "      <th>Quantity</th>\n",
       "      <th>Foo</th>\n",
       "      <th>NewColumn</th>\n",
       "    </tr>\n",
       "  </thead>\n",
       "  <tbody>\n",
       "    <tr>\n",
       "      <th>0</th>\n",
       "      <td>1</td>\n",
       "      <td>2010-08-21</td>\n",
       "      <td>7.0</td>\n",
       "      <td>2</td>\n",
       "      <td>1</td>\n",
       "      <td>9.0</td>\n",
       "      <td>2</td>\n",
       "    </tr>\n",
       "    <tr>\n",
       "      <th>1</th>\n",
       "      <td>2</td>\n",
       "      <td>2011-05-26</td>\n",
       "      <td>3.0</td>\n",
       "      <td>4</td>\n",
       "      <td>1</td>\n",
       "      <td>7.0</td>\n",
       "      <td>2</td>\n",
       "    </tr>\n",
       "    <tr>\n",
       "      <th>2</th>\n",
       "      <td>3</td>\n",
       "      <td>2011-06-16</td>\n",
       "      <td>3.0</td>\n",
       "      <td>3</td>\n",
       "      <td>1</td>\n",
       "      <td>6.0</td>\n",
       "      <td>2</td>\n",
       "    </tr>\n",
       "    <tr>\n",
       "      <th>3</th>\n",
       "      <td>4</td>\n",
       "      <td>2012-08-26</td>\n",
       "      <td>1.0</td>\n",
       "      <td>2</td>\n",
       "      <td>3</td>\n",
       "      <td>3.0</td>\n",
       "      <td>6</td>\n",
       "    </tr>\n",
       "    <tr>\n",
       "      <th>4</th>\n",
       "      <td>5</td>\n",
       "      <td>2013-06-06</td>\n",
       "      <td>2.0</td>\n",
       "      <td>4</td>\n",
       "      <td>1</td>\n",
       "      <td>6.0</td>\n",
       "      <td>2</td>\n",
       "    </tr>\n",
       "    <tr>\n",
       "      <th>5</th>\n",
       "      <td>6</td>\n",
       "      <td>2013-12-23</td>\n",
       "      <td>2.0</td>\n",
       "      <td>5</td>\n",
       "      <td>6</td>\n",
       "      <td>7.0</td>\n",
       "      <td>12</td>\n",
       "    </tr>\n",
       "    <tr>\n",
       "      <th>6</th>\n",
       "      <td>7</td>\n",
       "      <td>2013-12-30</td>\n",
       "      <td>3.0</td>\n",
       "      <td>4</td>\n",
       "      <td>1</td>\n",
       "      <td>7.0</td>\n",
       "      <td>2</td>\n",
       "    </tr>\n",
       "    <tr>\n",
       "      <th>7</th>\n",
       "      <td>8</td>\n",
       "      <td>2014-04-24</td>\n",
       "      <td>NaN</td>\n",
       "      <td>2</td>\n",
       "      <td>3</td>\n",
       "      <td>NaN</td>\n",
       "      <td>6</td>\n",
       "    </tr>\n",
       "    <tr>\n",
       "      <th>8</th>\n",
       "      <td>9</td>\n",
       "      <td>2015-04-24</td>\n",
       "      <td>7.0</td>\n",
       "      <td>4</td>\n",
       "      <td>3</td>\n",
       "      <td>11.0</td>\n",
       "      <td>6</td>\n",
       "    </tr>\n",
       "    <tr>\n",
       "      <th>9</th>\n",
       "      <td>10</td>\n",
       "      <td>2016-05-08</td>\n",
       "      <td>3.0</td>\n",
       "      <td>4</td>\n",
       "      <td>4</td>\n",
       "      <td>7.0</td>\n",
       "      <td>8</td>\n",
       "    </tr>\n",
       "  </tbody>\n",
       "</table>\n",
       "</div>"
      ],
      "text/plain": [
       "   TransactionID TransactionDate  UserID  ProductID  Quantity   Foo  NewColumn\n",
       "0              1      2010-08-21     7.0          2         1   9.0          2\n",
       "1              2      2011-05-26     3.0          4         1   7.0          2\n",
       "2              3      2011-06-16     3.0          3         1   6.0          2\n",
       "3              4      2012-08-26     1.0          2         3   3.0          6\n",
       "4              5      2013-06-06     2.0          4         1   6.0          2\n",
       "5              6      2013-12-23     2.0          5         6   7.0         12\n",
       "6              7      2013-12-30     3.0          4         1   7.0          2\n",
       "7              8      2014-04-24     NaN          2         3   NaN          6\n",
       "8              9      2015-04-24     7.0          4         3  11.0          6\n",
       "9             10      2016-05-08     3.0          4         4   7.0          8"
      ]
     },
     "execution_count": 53,
     "metadata": {},
     "output_type": "execute_result"
    }
   ],
   "source": [
    " df['TransactionDate'] = pd.to_datetime(df['TransactionDate'])\n",
    "df\n"
   ]
  },
  {
   "cell_type": "code",
   "execution_count": null,
   "id": "957e40c2",
   "metadata": {},
   "outputs": [],
   "source": []
  },
  {
   "cell_type": "markdown",
   "id": "63905530",
   "metadata": {},
   "source": [
    "# Exercise questions:\n"
   ]
  },
  {
   "cell_type": "code",
   "execution_count": 3,
   "id": "285c2abd",
   "metadata": {},
   "outputs": [
    {
     "name": "stdout",
     "output_type": "stream",
     "text": [
      "   TransactionID TransactionDate  UserID  ProductID  Quantity\n",
      "0              1      2010-08-21     7.0          2         1\n",
      "1              2      2011-05-26     3.0          4         1\n",
      "2              3      2011-06-16     3.0          3         1\n",
      "3              4      2012-08-26     1.0          2         3\n",
      "4              5      2013-06-06     2.0          4         1\n",
      "5              6      2013-12-23     2.0          5         6\n",
      "6              7      2013-12-30     3.0          4         1\n",
      "7              8      2014-04-24     NaN          2         3\n",
      "8              9      2015-04-24     7.0          4         3\n",
      "9             10      2016-05-08     3.0          4         4\n",
      "       TransactionID    UserID  ProductID   Quantity\n",
      "count       10.00000  9.000000  10.000000  10.000000\n",
      "mean         5.50000  3.444444   3.400000   2.400000\n",
      "std          3.02765  2.127858   1.074968   1.712698\n",
      "min          1.00000  1.000000   2.000000   1.000000\n",
      "25%          3.25000  2.000000   2.250000   1.000000\n",
      "50%          5.50000  3.000000   4.000000   2.000000\n",
      "75%          7.75000  3.000000   4.000000   3.000000\n",
      "max         10.00000  7.000000   5.000000   6.000000\n"
     ]
    }
   ],
   "source": [
    "#1. Print Summary of transaction data set\n",
    "\n",
    "import pandas as pd\n",
    "import numpy as np\n",
    "\n",
    "df=pd.read_csv(\"transactions.csv\")\n",
    "print(df.head(10))\n",
    "print(df.describe())"
   ]
  },
  {
   "cell_type": "code",
   "execution_count": 4,
   "id": "3235021c",
   "metadata": {},
   "outputs": [
    {
     "name": "stdout",
     "output_type": "stream",
     "text": [
      "Number of attributes: 5\n"
     ]
    }
   ],
   "source": [
    "#2. Print Numbers of Attributes\n",
    "\n",
    "#print(\"Number of attributes:\", df.shape[1])\n",
    "\n",
    "print(\"Number of attributes:\", len(df.columns))\n"
   ]
  },
  {
   "cell_type": "code",
   "execution_count": 5,
   "id": "0e9fbf96",
   "metadata": {},
   "outputs": [
    {
     "name": "stdout",
     "output_type": "stream",
     "text": [
      "Number of Records: 10\n"
     ]
    }
   ],
   "source": [
    "#3. Print Numbers of Records\n",
    "\n",
    "print(\"Number of Records:\", len(df))"
   ]
  },
  {
   "cell_type": "code",
   "execution_count": 6,
   "id": "50ec6e1e",
   "metadata": {},
   "outputs": [
    {
     "name": "stdout",
     "output_type": "stream",
     "text": [
      "Row names: RangeIndex(start=0, stop=10, step=1)\n"
     ]
    }
   ],
   "source": [
    "#4. Get the row names\n",
    "row_names = df.index\n",
    "print(\"Row names:\", row_names)"
   ]
  },
  {
   "cell_type": "code",
   "execution_count": 7,
   "id": "7b9df1d8",
   "metadata": {},
   "outputs": [
    {
     "name": "stdout",
     "output_type": "stream",
     "text": [
      "Column names: Index(['TransactionID', 'TransactionDate', 'UserID', 'ProductID', 'Quantity'], dtype='object')\n"
     ]
    }
   ],
   "source": [
    "#5. Get the column names\n",
    "column_names = df.columns\n",
    "print(\"Column names:\", column_names)"
   ]
  },
  {
   "cell_type": "code",
   "execution_count": 8,
   "id": "3a85f438",
   "metadata": {},
   "outputs": [
    {
     "name": "stdout",
     "output_type": "stream",
     "text": [
      "Top 10 records:\n",
      "    TransactionID TransactionDate  UserID  ProductID  Quantity\n",
      "0              1      2010-08-21     7.0          2         1\n",
      "1              2      2011-05-26     3.0          4         1\n",
      "2              3      2011-06-16     3.0          3         1\n",
      "3              4      2012-08-26     1.0          2         3\n",
      "4              5      2013-06-06     2.0          4         1\n",
      "5              6      2013-12-23     2.0          5         6\n",
      "6              7      2013-12-30     3.0          4         1\n",
      "7              8      2014-04-24     NaN          2         3\n",
      "8              9      2015-04-24     7.0          4         3\n",
      "9             10      2016-05-08     3.0          4         4\n"
     ]
    }
   ],
   "source": [
    "#6. View top 10 Records\n",
    "top_10_records = df.head(10)\n",
    "print(\"Top 10 records:\\n\", top_10_records)"
   ]
  },
  {
   "cell_type": "code",
   "execution_count": 9,
   "id": "5a659736",
   "metadata": {},
   "outputs": [
    {
     "data": {
      "text/html": [
       "<div>\n",
       "<style scoped>\n",
       "    .dataframe tbody tr th:only-of-type {\n",
       "        vertical-align: middle;\n",
       "    }\n",
       "\n",
       "    .dataframe tbody tr th {\n",
       "        vertical-align: top;\n",
       "    }\n",
       "\n",
       "    .dataframe thead th {\n",
       "        text-align: right;\n",
       "    }\n",
       "</style>\n",
       "<table border=\"1\" class=\"dataframe\">\n",
       "  <thead>\n",
       "    <tr style=\"text-align: right;\">\n",
       "      <th></th>\n",
       "      <th>TransactionID</th>\n",
       "      <th>TransactionDate</th>\n",
       "      <th>UserID</th>\n",
       "      <th>ProductID</th>\n",
       "      <th>Quant</th>\n",
       "    </tr>\n",
       "  </thead>\n",
       "  <tbody>\n",
       "    <tr>\n",
       "      <th>0</th>\n",
       "      <td>1</td>\n",
       "      <td>2010-08-21</td>\n",
       "      <td>7.0</td>\n",
       "      <td>2</td>\n",
       "      <td>1</td>\n",
       "    </tr>\n",
       "    <tr>\n",
       "      <th>1</th>\n",
       "      <td>2</td>\n",
       "      <td>2011-05-26</td>\n",
       "      <td>3.0</td>\n",
       "      <td>4</td>\n",
       "      <td>1</td>\n",
       "    </tr>\n",
       "    <tr>\n",
       "      <th>2</th>\n",
       "      <td>3</td>\n",
       "      <td>2011-06-16</td>\n",
       "      <td>3.0</td>\n",
       "      <td>3</td>\n",
       "      <td>1</td>\n",
       "    </tr>\n",
       "    <tr>\n",
       "      <th>3</th>\n",
       "      <td>4</td>\n",
       "      <td>2012-08-26</td>\n",
       "      <td>1.0</td>\n",
       "      <td>2</td>\n",
       "      <td>3</td>\n",
       "    </tr>\n",
       "    <tr>\n",
       "      <th>4</th>\n",
       "      <td>5</td>\n",
       "      <td>2013-06-06</td>\n",
       "      <td>2.0</td>\n",
       "      <td>4</td>\n",
       "      <td>1</td>\n",
       "    </tr>\n",
       "    <tr>\n",
       "      <th>5</th>\n",
       "      <td>6</td>\n",
       "      <td>2013-12-23</td>\n",
       "      <td>2.0</td>\n",
       "      <td>5</td>\n",
       "      <td>6</td>\n",
       "    </tr>\n",
       "    <tr>\n",
       "      <th>6</th>\n",
       "      <td>7</td>\n",
       "      <td>2013-12-30</td>\n",
       "      <td>3.0</td>\n",
       "      <td>4</td>\n",
       "      <td>1</td>\n",
       "    </tr>\n",
       "    <tr>\n",
       "      <th>7</th>\n",
       "      <td>8</td>\n",
       "      <td>2014-04-24</td>\n",
       "      <td>NaN</td>\n",
       "      <td>2</td>\n",
       "      <td>3</td>\n",
       "    </tr>\n",
       "    <tr>\n",
       "      <th>8</th>\n",
       "      <td>9</td>\n",
       "      <td>2015-04-24</td>\n",
       "      <td>7.0</td>\n",
       "      <td>4</td>\n",
       "      <td>3</td>\n",
       "    </tr>\n",
       "    <tr>\n",
       "      <th>9</th>\n",
       "      <td>10</td>\n",
       "      <td>2016-05-08</td>\n",
       "      <td>3.0</td>\n",
       "      <td>4</td>\n",
       "      <td>4</td>\n",
       "    </tr>\n",
       "  </tbody>\n",
       "</table>\n",
       "</div>"
      ],
      "text/plain": [
       "   TransactionID TransactionDate  UserID  ProductID  Quant\n",
       "0              1      2010-08-21     7.0          2      1\n",
       "1              2      2011-05-26     3.0          4      1\n",
       "2              3      2011-06-16     3.0          3      1\n",
       "3              4      2012-08-26     1.0          2      3\n",
       "4              5      2013-06-06     2.0          4      1\n",
       "5              6      2013-12-23     2.0          5      6\n",
       "6              7      2013-12-30     3.0          4      1\n",
       "7              8      2014-04-24     NaN          2      3\n",
       "8              9      2015-04-24     7.0          4      3\n",
       "9             10      2016-05-08     3.0          4      4"
      ]
     },
     "execution_count": 9,
     "metadata": {},
     "output_type": "execute_result"
    }
   ],
   "source": [
    "#7.Change the name of column “ Quantity” to “Quant”\n",
    "df.rename(columns={'Quantity':'Quant'}, inplace=True)\n",
    "df"
   ]
  },
  {
   "cell_type": "code",
   "execution_count": 10,
   "id": "b803f4a4",
   "metadata": {},
   "outputs": [
    {
     "data": {
      "text/html": [
       "<div>\n",
       "<style scoped>\n",
       "    .dataframe tbody tr th:only-of-type {\n",
       "        vertical-align: middle;\n",
       "    }\n",
       "\n",
       "    .dataframe tbody tr th {\n",
       "        vertical-align: top;\n",
       "    }\n",
       "\n",
       "    .dataframe thead th {\n",
       "        text-align: right;\n",
       "    }\n",
       "</style>\n",
       "<table border=\"1\" class=\"dataframe\">\n",
       "  <thead>\n",
       "    <tr style=\"text-align: right;\">\n",
       "      <th></th>\n",
       "      <th>TransactionID</th>\n",
       "      <th>TransactionDate</th>\n",
       "      <th>UID</th>\n",
       "      <th>PID</th>\n",
       "      <th>Quant</th>\n",
       "    </tr>\n",
       "  </thead>\n",
       "  <tbody>\n",
       "    <tr>\n",
       "      <th>0</th>\n",
       "      <td>1</td>\n",
       "      <td>2010-08-21</td>\n",
       "      <td>7.0</td>\n",
       "      <td>2</td>\n",
       "      <td>1</td>\n",
       "    </tr>\n",
       "    <tr>\n",
       "      <th>1</th>\n",
       "      <td>2</td>\n",
       "      <td>2011-05-26</td>\n",
       "      <td>3.0</td>\n",
       "      <td>4</td>\n",
       "      <td>1</td>\n",
       "    </tr>\n",
       "    <tr>\n",
       "      <th>2</th>\n",
       "      <td>3</td>\n",
       "      <td>2011-06-16</td>\n",
       "      <td>3.0</td>\n",
       "      <td>3</td>\n",
       "      <td>1</td>\n",
       "    </tr>\n",
       "    <tr>\n",
       "      <th>3</th>\n",
       "      <td>4</td>\n",
       "      <td>2012-08-26</td>\n",
       "      <td>1.0</td>\n",
       "      <td>2</td>\n",
       "      <td>3</td>\n",
       "    </tr>\n",
       "    <tr>\n",
       "      <th>4</th>\n",
       "      <td>5</td>\n",
       "      <td>2013-06-06</td>\n",
       "      <td>2.0</td>\n",
       "      <td>4</td>\n",
       "      <td>1</td>\n",
       "    </tr>\n",
       "    <tr>\n",
       "      <th>5</th>\n",
       "      <td>6</td>\n",
       "      <td>2013-12-23</td>\n",
       "      <td>2.0</td>\n",
       "      <td>5</td>\n",
       "      <td>6</td>\n",
       "    </tr>\n",
       "    <tr>\n",
       "      <th>6</th>\n",
       "      <td>7</td>\n",
       "      <td>2013-12-30</td>\n",
       "      <td>3.0</td>\n",
       "      <td>4</td>\n",
       "      <td>1</td>\n",
       "    </tr>\n",
       "    <tr>\n",
       "      <th>7</th>\n",
       "      <td>8</td>\n",
       "      <td>2014-04-24</td>\n",
       "      <td>NaN</td>\n",
       "      <td>2</td>\n",
       "      <td>3</td>\n",
       "    </tr>\n",
       "    <tr>\n",
       "      <th>8</th>\n",
       "      <td>9</td>\n",
       "      <td>2015-04-24</td>\n",
       "      <td>7.0</td>\n",
       "      <td>4</td>\n",
       "      <td>3</td>\n",
       "    </tr>\n",
       "    <tr>\n",
       "      <th>9</th>\n",
       "      <td>10</td>\n",
       "      <td>2016-05-08</td>\n",
       "      <td>3.0</td>\n",
       "      <td>4</td>\n",
       "      <td>4</td>\n",
       "    </tr>\n",
       "  </tbody>\n",
       "</table>\n",
       "</div>"
      ],
      "text/plain": [
       "   TransactionID TransactionDate  UID  PID  Quant\n",
       "0              1      2010-08-21  7.0    2      1\n",
       "1              2      2011-05-26  3.0    4      1\n",
       "2              3      2011-06-16  3.0    3      1\n",
       "3              4      2012-08-26  1.0    2      3\n",
       "4              5      2013-06-06  2.0    4      1\n",
       "5              6      2013-12-23  2.0    5      6\n",
       "6              7      2013-12-30  3.0    4      1\n",
       "7              8      2014-04-24  NaN    2      3\n",
       "8              9      2015-04-24  7.0    4      3\n",
       "9             10      2016-05-08  3.0    4      4"
      ]
     },
     "execution_count": 10,
     "metadata": {},
     "output_type": "execute_result"
    }
   ],
   "source": [
    "#8.Change the name of columns ProductID and UserID to PID and UID respectively\n",
    "\n",
    "df.rename(columns={'ProductID':'PID','UserID':'UID'},inplace=True)\n",
    "df\n"
   ]
  },
  {
   "cell_type": "code",
   "execution_count": 11,
   "id": "242e382d",
   "metadata": {},
   "outputs": [
    {
     "name": "stdout",
     "output_type": "stream",
     "text": [
      "Sorted in descending order:\n",
      "    TransactionID TransactionDate  UID  PID  Quant\n",
      "9             10      2016-05-08  3.0    4      4\n",
      "8              9      2015-04-24  7.0    4      3\n",
      "7              8      2014-04-24  NaN    2      3\n",
      "6              7      2013-12-30  3.0    4      1\n",
      "5              6      2013-12-23  2.0    5      6\n",
      "4              5      2013-06-06  2.0    4      1\n",
      "3              4      2012-08-26  1.0    2      3\n",
      "2              3      2011-06-16  3.0    3      1\n",
      "1              2      2011-05-26  3.0    4      1\n",
      "0              1      2010-08-21  7.0    2      1\n",
      "Sorted in ascending order:\n",
      "    TransactionID TransactionDate  UID  PID  Quant\n",
      "0              1      2010-08-21  7.0    2      1\n",
      "1              2      2011-05-26  3.0    4      1\n",
      "2              3      2011-06-16  3.0    3      1\n",
      "3              4      2012-08-26  1.0    2      3\n",
      "4              5      2013-06-06  2.0    4      1\n",
      "5              6      2013-12-23  2.0    5      6\n",
      "6              7      2013-12-30  3.0    4      1\n",
      "7              8      2014-04-24  NaN    2      3\n",
      "8              9      2015-04-24  7.0    4      3\n",
      "9             10      2016-05-08  3.0    4      4\n"
     ]
    }
   ],
   "source": [
    "#9. Order the rows of transactions by TransactionId descending, if ascending then ascending=True\n",
    "# For descending order\n",
    "df_sorted_desc = df.sort_values(by='TransactionID', ascending=False)\n",
    "print(\"Sorted in descending order:\\n\", df_sorted_desc)\n",
    "\n",
    "# For ascending order (if needed, you can set ascending=True)\n",
    "df_sorted_asc = df.sort_values(by='TransactionID', ascending=True)\n",
    "print(\"Sorted in ascending order:\\n\", df_sorted_asc)"
   ]
  },
  {
   "cell_type": "code",
   "execution_count": 12,
   "id": "7c366022",
   "metadata": {},
   "outputs": [
    {
     "name": "stdout",
     "output_type": "stream",
     "text": [
      "   TransactionID TransactionDate  UID  PID  Quant\n",
      "6              7      2013-12-30  3.0    4      1\n",
      "4              5      2013-06-06  2.0    4      1\n",
      "2              3      2011-06-16  3.0    3      1\n",
      "1              2      2011-05-26  3.0    4      1\n",
      "0              1      2010-08-21  7.0    2      1\n",
      "8              9      2015-04-24  7.0    4      3\n",
      "7              8      2014-04-24  NaN    2      3\n",
      "3              4      2012-08-26  1.0    2      3\n",
      "9             10      2016-05-08  3.0    4      4\n",
      "5              6      2013-12-23  2.0    5      6\n"
     ]
    }
   ],
   "source": [
    "#10. Order the rows of transactions by Quantity ascending, TransactionDate descending\n",
    "df_sorted = df.sort_values(by=[\"Quant\", \"TransactionDate\"], \n",
    "ascending=[True, False])\n",
    "print(df_sorted.head(10))"
   ]
  },
  {
   "cell_type": "code",
   "execution_count": 13,
   "id": "538bf5df",
   "metadata": {},
   "outputs": [
    {
     "name": "stdout",
     "output_type": "stream",
     "text": [
      "   PID  Quant TransactionDate  TransactionID  UID\n",
      "0    2      1      2010-08-21              1  7.0\n",
      "1    4      1      2011-05-26              2  3.0\n",
      "2    3      1      2011-06-16              3  3.0\n",
      "3    2      3      2012-08-26              4  1.0\n",
      "4    4      1      2013-06-06              5  2.0\n",
      "5    5      6      2013-12-23              6  2.0\n",
      "6    4      1      2013-12-30              7  3.0\n",
      "7    2      3      2014-04-24              8  NaN\n",
      "8    4      3      2015-04-24              9  7.0\n",
      "9    4      4      2016-05-08             10  3.0\n"
     ]
    }
   ],
   "source": [
    "#11. Set the column order of Transactions as ProductID, Quantity, TransactionDate, TransactionID, UserID\n",
    "df_sorted_column=df[sorted(df.columns)]\n",
    "print(df_sorted_column)"
   ]
  },
  {
   "cell_type": "code",
   "execution_count": 17,
   "id": "cec604c0",
   "metadata": {},
   "outputs": [
    {
     "name": "stdout",
     "output_type": "stream",
     "text": [
      "   UID  TransactionID TransactionDate  PID  Quant\n",
      "0  7.0              1      2010-08-21    2      1\n",
      "1  3.0              2      2011-05-26    4      1\n",
      "2  3.0              3      2011-06-16    3      1\n",
      "3  1.0              4      2012-08-26    2      3\n",
      "4  2.0              5      2013-06-06    4      1\n",
      "5  2.0              6      2013-12-23    5      6\n",
      "6  3.0              7      2013-12-30    4      1\n",
      "7  NaN              8      2014-04-24    2      3\n",
      "8  7.0              9      2015-04-24    4      3\n",
      "9  3.0             10      2016-05-08    4      4\n"
     ]
    }
   ],
   "source": [
    "#12. Make UserID the first column of transactions\n",
    "df = df.set_index('UID').reset_index()\n",
    "print(df)\n"
   ]
  },
  {
   "cell_type": "code",
   "execution_count": 18,
   "id": "22949503",
   "metadata": {},
   "outputs": [
    {
     "name": "stdout",
     "output_type": "stream",
     "text": [
      "0     1\n",
      "1     2\n",
      "2     3\n",
      "3     4\n",
      "4     5\n",
      "5     6\n",
      "6     7\n",
      "7     8\n",
      "8     9\n",
      "9    10\n",
      "Name: TransactionID, dtype: int64\n"
     ]
    }
   ],
   "source": [
    "#13. Extracting arrays from a Data Frame. Get the 2nd column\n",
    "second_column = df.iloc[:, 1]\n",
    "print(second_column)\n"
   ]
  },
  {
   "cell_type": "code",
   "execution_count": 20,
   "id": "88aaeb65",
   "metadata": {},
   "outputs": [
    {
     "name": "stdout",
     "output_type": "stream",
     "text": [
      "0    2\n",
      "1    4\n",
      "2    3\n",
      "3    2\n",
      "4    4\n",
      "5    5\n",
      "6    4\n",
      "7    2\n",
      "8    4\n",
      "9    4\n",
      "Name: PID, dtype: int64\n"
     ]
    }
   ],
   "source": [
    "#14. Get the ProductID Array\n",
    "print(df.loc[:,\"PID\"])"
   ]
  },
  {
   "cell_type": "code",
   "execution_count": 22,
   "id": "a297c8cb",
   "metadata": {},
   "outputs": [
    {
     "name": "stdout",
     "output_type": "stream",
     "text": [
      "[2 4 3 2 4 5 4 2 4 4]\n"
     ]
    }
   ],
   "source": [
    "#15. Get the ProductId array using the following variable\n",
    "product_id_array = df[\"PID\"].to_numpy()\n",
    "print(product_id_array)\n"
   ]
  },
  {
   "cell_type": "code",
   "execution_count": 23,
   "id": "c332b0f3",
   "metadata": {},
   "outputs": [
    {
     "name": "stdout",
     "output_type": "stream",
     "text": [
      "   UID  TransactionID TransactionDate  PID  Quant\n",
      "1  3.0              2      2011-05-26    4      1\n",
      "3  1.0              4      2012-08-26    2      3\n",
      "6  3.0              7      2013-12-30    4      1\n"
     ]
    }
   ],
   "source": [
    "#16.Row subsetting, subset rows 1,3 and 6\n",
    "subset_rows_1_3_6 = df.iloc[[1, 3, 6]]\n",
    "print(subset_rows_1_3_6)\n"
   ]
  },
  {
   "cell_type": "code",
   "execution_count": 24,
   "id": "44a08dac",
   "metadata": {},
   "outputs": [
    {
     "name": "stdout",
     "output_type": "stream",
     "text": [
      "   UID  TransactionID TransactionDate  PID  Quant\n",
      "0  7.0              1      2010-08-21    2      1\n",
      "2  3.0              3      2011-06-16    3      1\n",
      "4  2.0              5      2013-06-06    4      1\n",
      "5  2.0              6      2013-12-23    5      6\n",
      "7  NaN              8      2014-04-24    2      3\n",
      "8  7.0              9      2015-04-24    4      3\n",
      "9  3.0             10      2016-05-08    4      4\n"
     ]
    }
   ],
   "source": [
    "#17. subset rows excluding 1,3 and 6\n",
    "subset_rows_excluding_1_3_6 = df.drop([1,3,6])\n",
    "print(subset_rows_excluding_1_3_6)"
   ]
  },
  {
   "cell_type": "code",
   "execution_count": 25,
   "id": "d924dede",
   "metadata": {},
   "outputs": [
    {
     "name": "stdout",
     "output_type": "stream",
     "text": [
      "   UID  TransactionID TransactionDate  PID  Quant\n",
      "0  7.0              1      2010-08-21    2      1\n",
      "1  3.0              2      2011-05-26    4      1\n",
      "2  3.0              3      2011-06-16    3      1\n"
     ]
    }
   ],
   "source": [
    "#18. Subset the first three rows\n",
    "subset_first_three_rows = df.head(3)\n",
    "print(subset_first_three_rows)\n"
   ]
  },
  {
   "cell_type": "code",
   "execution_count": 26,
   "id": "8fa3b696",
   "metadata": {},
   "outputs": [
    {
     "name": "stdout",
     "output_type": "stream",
     "text": [
      "   UID  TransactionID TransactionDate  PID  Quant\n",
      "8  7.0              9      2015-04-24    4      3\n",
      "9  3.0             10      2016-05-08    4      4\n"
     ]
    }
   ],
   "source": [
    "#19. Subset the last 2 rows\n",
    "subset_last_two_rows = df.tail(2)\n",
    "print(subset_last_two_rows)\n"
   ]
  },
  {
   "cell_type": "code",
   "execution_count": 27,
   "id": "3fd0e351",
   "metadata": {},
   "outputs": [
    {
     "name": "stdout",
     "output_type": "stream",
     "text": [
      "   UID  TransactionID TransactionDate  PID  Quant\n",
      "0  7.0              1      2010-08-21    2      1\n",
      "1  3.0              2      2011-05-26    4      1\n",
      "2  3.0              3      2011-06-16    3      1\n",
      "3  1.0              4      2012-08-26    2      3\n",
      "4  2.0              5      2013-06-06    4      1\n",
      "5  2.0              6      2013-12-23    5      6\n",
      "6  3.0              7      2013-12-30    4      1\n",
      "7  NaN              8      2014-04-24    2      3\n"
     ]
    }
   ],
   "source": [
    "#20. Subset rows excluding the last 2 rows\n",
    "subset_excluding_last_two = df.iloc[:-2]\n",
    "print(subset_excluding_last_two)\n"
   ]
  },
  {
   "cell_type": "code",
   "execution_count": 28,
   "id": "308bdf40",
   "metadata": {},
   "outputs": [
    {
     "name": "stdout",
     "output_type": "stream",
     "text": [
      "   UID  TransactionID TransactionDate  PID  Quant\n",
      "3  1.0              4      2012-08-26    2      3\n",
      "4  2.0              5      2013-06-06    4      1\n",
      "5  2.0              6      2013-12-23    5      6\n",
      "6  3.0              7      2013-12-30    4      1\n",
      "7  NaN              8      2014-04-24    2      3\n",
      "8  7.0              9      2015-04-24    4      3\n",
      "9  3.0             10      2016-05-08    4      4\n"
     ]
    }
   ],
   "source": [
    "#21. Subset rows excluding the first 3 rows\n",
    "subset_excluding_first_three = df.iloc[3:]\n",
    "print(subset_excluding_first_three)"
   ]
  },
  {
   "cell_type": "code",
   "execution_count": 30,
   "id": "6f5fd1e1",
   "metadata": {},
   "outputs": [
    {
     "name": "stdout",
     "output_type": "stream",
     "text": [
      "   UID  TransactionID TransactionDate  PID  Quant\n",
      "3  1.0              4      2012-08-26    2      3\n",
      "5  2.0              6      2013-12-23    5      6\n",
      "7  NaN              8      2014-04-24    2      3\n",
      "8  7.0              9      2015-04-24    4      3\n",
      "9  3.0             10      2016-05-08    4      4\n"
     ]
    }
   ],
   "source": [
    "#22. Subset rows where Quantity>1\n",
    "subset_quantity_greater_than_1 = df[df[\"Quant\"] > 1]\n",
    "print(subset_quantity_greater_than_1)\n"
   ]
  },
  {
   "cell_type": "code",
   "execution_count": 32,
   "id": "a27078f8",
   "metadata": {},
   "outputs": [
    {
     "name": "stdout",
     "output_type": "stream",
     "text": [
      "   UID  TransactionID TransactionDate  PID  Quant\n",
      "4  2.0              5      2013-06-06    4      1\n",
      "5  2.0              6      2013-12-23    5      6\n"
     ]
    }
   ],
   "source": [
    "#23. Subset rows where UserID=2\n",
    "subset_userid_2 = df[df[\"UID\"] == 2]\n",
    "print(subset_userid_2)\n"
   ]
  },
  {
   "cell_type": "code",
   "execution_count": 33,
   "id": "c5e3c11b",
   "metadata": {},
   "outputs": [
    {
     "name": "stdout",
     "output_type": "stream",
     "text": [
      "   TransactionID TransactionDate  UserID  ProductID  Quantity\n",
      "5              6      2013-12-23     2.0          5         6\n"
     ]
    }
   ],
   "source": [
    "#24. Subset rows where Quantity>1 and UserID=2\n",
    "\n",
    "df = pd.read_csv(\"transactions.csv\")\n",
    "print(df[(df[\"Quantity\"] > 1)&(df[\"UserID\"] == 2)])"
   ]
  },
  {
   "cell_type": "code",
   "execution_count": 34,
   "id": "86d784a9",
   "metadata": {},
   "outputs": [
    {
     "name": "stdout",
     "output_type": "stream",
     "text": [
      "   TransactionID TransactionDate  UserID  ProductID  Quantity\n",
      "0              1      2010-08-21     7.0          2         1\n",
      "1              2      2011-05-26     3.0          4         1\n",
      "2              3      2011-06-16     3.0          3         1\n",
      "3              4      2012-08-26     1.0          2         3\n",
      "5              6      2013-12-23     2.0          5         6\n",
      "6              7      2013-12-30     3.0          4         1\n",
      "8              9      2015-04-24     7.0          4         3\n",
      "9             10      2016-05-08     3.0          4         4\n"
     ]
    }
   ],
   "source": [
    "#25. Subset rows where Quantity + UserID is >3\n",
    "print(df[(df[\"Quantity\"] + df[\"UserID\"])>3])"
   ]
  },
  {
   "cell_type": "code",
   "execution_count": 39,
   "id": "1b160238",
   "metadata": {},
   "outputs": [
    {
     "name": "stdout",
     "output_type": "stream",
     "text": [
      "   TransactionID TransactionDate  UserID  ProductID  Quantity\n",
      "0              1      2010-08-21     7.0          2         1\n",
      "2              3      2011-06-16     3.0          3         1\n",
      "3              4      2012-08-26     1.0          2         3\n",
      "5              6      2013-12-23     2.0          5         6\n",
      "7              8      2014-04-24     NaN          2         3\n",
      "9             10      2016-05-08     3.0          4         4\n"
     ]
    }
   ],
   "source": [
    "#26. Subset rows where an external array, foo, is True\n",
    "foo = [True, False, True, True, False, True, False, True, False, True]\n",
    "\n",
    "subset_foo_true = df[foo]\n",
    "print(subset_foo_true)\n",
    "\n"
   ]
  },
  {
   "cell_type": "code",
   "execution_count": 40,
   "id": "2e8d3d44",
   "metadata": {},
   "outputs": [
    {
     "name": "stdout",
     "output_type": "stream",
     "text": [
      "   TransactionID TransactionDate  UserID  ProductID  Quantity\n",
      "0              1      2010-08-21     7.0          2         1\n",
      "2              3      2011-06-16     3.0          3         1\n",
      "3              4      2012-08-26     1.0          2         3\n",
      "5              6      2013-12-23     2.0          5         6\n",
      "7              8      2014-04-24     NaN          2         3\n",
      "8              9      2015-04-24     7.0          4         3\n"
     ]
    }
   ],
   "source": [
    "#27. Subset rows where an external array, bar, is positive\n",
    "\n",
    "bar = np.array([1, -2, 3, 4, -5, 6, -7, 8, 9, -10])\n",
    "\n",
    "mask = bar > 0\n",
    "\n",
    "subset_bar_positive = df[mask]\n",
    "print(subset_bar_positive)\n",
    "\n"
   ]
  },
  {
   "cell_type": "code",
   "execution_count": 62,
   "id": "1b69c35d",
   "metadata": {},
   "outputs": [
    {
     "name": "stdout",
     "output_type": "stream",
     "text": [
      "   TransactionID TransactionDate  UserID  ProductID  Quantity     NewColumn  \\\n",
      "0              1      2010-08-21     7.0          2         1  DefaultValue   \n",
      "1              2      2011-05-26     3.0          4         1  DefaultValue   \n",
      "2              3      2011-06-16     3.0          3         1  DefaultValue   \n",
      "3              4      2012-08-26     1.0          2         3  DefaultValue   \n",
      "4              5      2013-06-06     2.0          4        10  DefaultValue   \n",
      "5              6      2013-12-23     2.0          5         6  DefaultValue   \n",
      "6              7      2013-12-30     3.0          4         1  DefaultValue   \n",
      "7              8      2014-04-24     NaN          2         3  DefaultValue   \n",
      "9             10      2016-05-08     3.0          4         4  DefaultValue   \n",
      "\n",
      "   Foo  \n",
      "0  9.0  \n",
      "1  7.0  \n",
      "2  6.0  \n",
      "3  3.0  \n",
      "4  6.0  \n",
      "5  7.0  \n",
      "6  7.0  \n",
      "7  2.0  \n",
      "9  7.0  \n"
     ]
    }
   ],
   "source": [
    "# 28. Subset rows where foo is TRUE or bar is negative\n",
    "print(df[foo | (bar < 0)])\n"
   ]
  },
  {
   "cell_type": "code",
   "execution_count": 64,
   "id": "7b37284e",
   "metadata": {},
   "outputs": [
    {
     "name": "stdout",
     "output_type": "stream",
     "text": [
      "   TransactionID TransactionDate  UserID  ProductID  Quantity     NewColumn  \\\n",
      "0              1      2010-08-21     7.0          2         1  DefaultValue   \n",
      "2              3      2011-06-16     3.0          3         1  DefaultValue   \n",
      "3              4      2012-08-26     1.0          2         3  DefaultValue   \n",
      "5              6      2013-12-23     2.0          5         6  DefaultValue   \n",
      "7              8      2014-04-24     NaN          2         3  DefaultValue   \n",
      "\n",
      "   Foo  \n",
      "0  9.0  \n",
      "2  6.0  \n",
      "3  3.0  \n",
      "5  7.0  \n",
      "7  2.0  \n"
     ]
    }
   ],
   "source": [
    "\n",
    "# 29. Subset where foo is not True and bar is not negative\n",
    "print(df[np.array(foo) & (bar >= 0)])\n"
   ]
  },
  {
   "cell_type": "code",
   "execution_count": 66,
   "id": "36da5a0b",
   "metadata": {},
   "outputs": [
    {
     "name": "stdout",
     "output_type": "stream",
     "text": [
      "  TransactionDate  ProductID\n",
      "0      2010-08-21          2\n",
      "1      2011-05-26          4\n",
      "2      2011-06-16          3\n",
      "3      2012-08-26          2\n",
      "4      2013-06-06          4\n",
      "5      2013-12-23          5\n",
      "6      2013-12-30          4\n",
      "7      2014-04-24          2\n",
      "8      2015-04-24          4\n",
      "9      2016-05-08          4\n"
     ]
    }
   ],
   "source": [
    "# 30. Subset by columns 1 and 3\n",
    "print(df.iloc[:, [1, 3]])\n"
   ]
  },
  {
   "cell_type": "code",
   "execution_count": 68,
   "id": "df5cc4b5",
   "metadata": {},
   "outputs": [
    {
     "name": "stdout",
     "output_type": "stream",
     "text": [
      "   TransactionID TransactionDate\n",
      "0              1      2010-08-21\n",
      "1              2      2011-05-26\n",
      "2              3      2011-06-16\n",
      "3              4      2012-08-26\n",
      "4              5      2013-06-06\n",
      "5              6      2013-12-23\n",
      "6              7      2013-12-30\n",
      "7              8      2014-04-24\n",
      "8              9      2015-04-24\n",
      "9             10      2016-05-08\n"
     ]
    }
   ],
   "source": [
    "# 31. Subset by TransactionID and TransactionDate\n",
    "print(df[['TransactionID', 'TransactionDate']])"
   ]
  },
  {
   "cell_type": "code",
   "execution_count": 74,
   "id": "50f358b5",
   "metadata": {},
   "outputs": [
    {
     "name": "stdout",
     "output_type": "stream",
     "text": [
      "   TransactionID TransactionDate\n",
      "0              1      2010-08-21\n",
      "1              2      2011-05-26\n",
      "2              3      2011-06-16\n",
      "3              4      2012-08-26\n",
      "4              5      2013-06-06\n",
      "5              6      2013-12-23\n",
      "6              7      2013-12-30\n",
      "7              8      2014-04-24\n",
      "8              9      2015-04-24\n",
      "9             10      2016-05-08\n"
     ]
    },
    {
     "data": {
      "text/html": [
       "<div>\n",
       "<style scoped>\n",
       "    .dataframe tbody tr th:only-of-type {\n",
       "        vertical-align: middle;\n",
       "    }\n",
       "\n",
       "    .dataframe tbody tr th {\n",
       "        vertical-align: top;\n",
       "    }\n",
       "\n",
       "    .dataframe thead th {\n",
       "        text-align: right;\n",
       "    }\n",
       "</style>\n",
       "<table border=\"1\" class=\"dataframe\">\n",
       "  <thead>\n",
       "    <tr style=\"text-align: right;\">\n",
       "      <th></th>\n",
       "      <th>TransactionID</th>\n",
       "      <th>TransactionDate</th>\n",
       "      <th>UserID</th>\n",
       "      <th>ProductID</th>\n",
       "      <th>Quantity</th>\n",
       "      <th>NewColumn</th>\n",
       "      <th>Foo</th>\n",
       "    </tr>\n",
       "  </thead>\n",
       "  <tbody>\n",
       "    <tr>\n",
       "      <th>0</th>\n",
       "      <td>1</td>\n",
       "      <td>2010-08-21</td>\n",
       "      <td>7.0</td>\n",
       "      <td>2</td>\n",
       "      <td>1</td>\n",
       "      <td>DefaultValue</td>\n",
       "      <td>9.0</td>\n",
       "    </tr>\n",
       "    <tr>\n",
       "      <th>1</th>\n",
       "      <td>2</td>\n",
       "      <td>2011-05-26</td>\n",
       "      <td>3.0</td>\n",
       "      <td>4</td>\n",
       "      <td>1</td>\n",
       "      <td>DefaultValue</td>\n",
       "      <td>7.0</td>\n",
       "    </tr>\n",
       "    <tr>\n",
       "      <th>2</th>\n",
       "      <td>3</td>\n",
       "      <td>2011-06-16</td>\n",
       "      <td>3.0</td>\n",
       "      <td>3</td>\n",
       "      <td>1</td>\n",
       "      <td>DefaultValue</td>\n",
       "      <td>6.0</td>\n",
       "    </tr>\n",
       "    <tr>\n",
       "      <th>3</th>\n",
       "      <td>4</td>\n",
       "      <td>2012-08-26</td>\n",
       "      <td>1.0</td>\n",
       "      <td>2</td>\n",
       "      <td>3</td>\n",
       "      <td>DefaultValue</td>\n",
       "      <td>3.0</td>\n",
       "    </tr>\n",
       "    <tr>\n",
       "      <th>4</th>\n",
       "      <td>5</td>\n",
       "      <td>2013-06-06</td>\n",
       "      <td>2.0</td>\n",
       "      <td>4</td>\n",
       "      <td>10</td>\n",
       "      <td>DefaultValue</td>\n",
       "      <td>6.0</td>\n",
       "    </tr>\n",
       "    <tr>\n",
       "      <th>5</th>\n",
       "      <td>6</td>\n",
       "      <td>2013-12-23</td>\n",
       "      <td>2.0</td>\n",
       "      <td>5</td>\n",
       "      <td>6</td>\n",
       "      <td>DefaultValue</td>\n",
       "      <td>7.0</td>\n",
       "    </tr>\n",
       "    <tr>\n",
       "      <th>6</th>\n",
       "      <td>7</td>\n",
       "      <td>2013-12-30</td>\n",
       "      <td>3.0</td>\n",
       "      <td>4</td>\n",
       "      <td>1</td>\n",
       "      <td>DefaultValue</td>\n",
       "      <td>7.0</td>\n",
       "    </tr>\n",
       "    <tr>\n",
       "      <th>7</th>\n",
       "      <td>8</td>\n",
       "      <td>2014-04-24</td>\n",
       "      <td>NaN</td>\n",
       "      <td>2</td>\n",
       "      <td>3</td>\n",
       "      <td>DefaultValue</td>\n",
       "      <td>2.0</td>\n",
       "    </tr>\n",
       "    <tr>\n",
       "      <th>8</th>\n",
       "      <td>9</td>\n",
       "      <td>2015-04-24</td>\n",
       "      <td>7.0</td>\n",
       "      <td>4</td>\n",
       "      <td>3</td>\n",
       "      <td>DefaultValue</td>\n",
       "      <td>11.0</td>\n",
       "    </tr>\n",
       "    <tr>\n",
       "      <th>9</th>\n",
       "      <td>10</td>\n",
       "      <td>2016-05-08</td>\n",
       "      <td>3.0</td>\n",
       "      <td>4</td>\n",
       "      <td>4</td>\n",
       "      <td>DefaultValue</td>\n",
       "      <td>7.0</td>\n",
       "    </tr>\n",
       "  </tbody>\n",
       "</table>\n",
       "</div>"
      ],
      "text/plain": [
       "   TransactionID TransactionDate  UserID  ProductID  Quantity     NewColumn  \\\n",
       "0              1      2010-08-21     7.0          2         1  DefaultValue   \n",
       "1              2      2011-05-26     3.0          4         1  DefaultValue   \n",
       "2              3      2011-06-16     3.0          3         1  DefaultValue   \n",
       "3              4      2012-08-26     1.0          2         3  DefaultValue   \n",
       "4              5      2013-06-06     2.0          4        10  DefaultValue   \n",
       "5              6      2013-12-23     2.0          5         6  DefaultValue   \n",
       "6              7      2013-12-30     3.0          4         1  DefaultValue   \n",
       "7              8      2014-04-24     NaN          2         3  DefaultValue   \n",
       "8              9      2015-04-24     7.0          4         3  DefaultValue   \n",
       "9             10      2016-05-08     3.0          4         4  DefaultValue   \n",
       "\n",
       "    Foo  \n",
       "0   9.0  \n",
       "1   7.0  \n",
       "2   6.0  \n",
       "3   3.0  \n",
       "4   6.0  \n",
       "5   7.0  \n",
       "6   7.0  \n",
       "7   2.0  \n",
       "8  11.0  \n",
       "9   7.0  "
      ]
     },
     "execution_count": 74,
     "metadata": {},
     "output_type": "execute_result"
    }
   ],
   "source": [
    "# 32. Subset by TransactionID and TransactionDate using logical operator\n",
    "columns_to_subset = ['TransactionID', 'TransactionDate']\n",
    "print(df[columns_to_subset])\n",
    "df"
   ]
  },
  {
   "cell_type": "code",
   "execution_count": 76,
   "id": "81ac7e4f",
   "metadata": {},
   "outputs": [
    {
     "name": "stdout",
     "output_type": "stream",
     "text": [
      "   ProductID  Quantity\n",
      "0          2         1\n",
      "1          4         1\n",
      "2          3         1\n",
      "3          2         3\n",
      "4          4        10\n",
      "5          5         6\n",
      "6          4         1\n",
      "7          2         3\n",
      "8          4         3\n",
      "9          4         4\n"
     ]
    }
   ],
   "source": [
    "# 33. Subset columns by variable list\n",
    "var_list = ['ProductID', 'Quantity']\n",
    "print(df[var_list])"
   ]
  },
  {
   "cell_type": "code",
   "execution_count": 78,
   "id": "3e9ea6ba",
   "metadata": {},
   "outputs": [
    {
     "name": "stdout",
     "output_type": "stream",
     "text": [
      "   TransactionID TransactionDate  UserID     NewColumn   Foo\n",
      "0              1      2010-08-21     7.0  DefaultValue   9.0\n",
      "1              2      2011-05-26     3.0  DefaultValue   7.0\n",
      "2              3      2011-06-16     3.0  DefaultValue   6.0\n",
      "3              4      2012-08-26     1.0  DefaultValue   3.0\n",
      "4              5      2013-06-06     2.0  DefaultValue   6.0\n",
      "5              6      2013-12-23     2.0  DefaultValue   7.0\n",
      "6              7      2013-12-30     3.0  DefaultValue   7.0\n",
      "7              8      2014-04-24     NaN  DefaultValue   2.0\n",
      "8              9      2015-04-24     7.0  DefaultValue  11.0\n",
      "9             10      2016-05-08     3.0  DefaultValue   7.0\n"
     ]
    }
   ],
   "source": [
    "# 34. Subset columns excluding variable list\n",
    "excluded_list = ['ProductID', 'Quantity']\n",
    "print(df.drop(columns=excluded_list))"
   ]
  },
  {
   "cell_type": "code",
   "execution_count": 80,
   "id": "8cc52c29",
   "metadata": {},
   "outputs": [
    {
     "data": {
      "text/html": [
       "<div>\n",
       "<style scoped>\n",
       "    .dataframe tbody tr th:only-of-type {\n",
       "        vertical-align: middle;\n",
       "    }\n",
       "\n",
       "    .dataframe tbody tr th {\n",
       "        vertical-align: top;\n",
       "    }\n",
       "\n",
       "    .dataframe thead th {\n",
       "        text-align: right;\n",
       "    }\n",
       "</style>\n",
       "<table border=\"1\" class=\"dataframe\">\n",
       "  <thead>\n",
       "    <tr style=\"text-align: right;\">\n",
       "      <th></th>\n",
       "      <th>TransactionID</th>\n",
       "      <th>TransactionDate</th>\n",
       "      <th>UserID</th>\n",
       "      <th>ProductID</th>\n",
       "      <th>Quantity</th>\n",
       "      <th>NewColumn</th>\n",
       "      <th>Foo</th>\n",
       "      <th>Quant</th>\n",
       "    </tr>\n",
       "  </thead>\n",
       "  <tbody>\n",
       "    <tr>\n",
       "      <th>0</th>\n",
       "      <td>1</td>\n",
       "      <td>2010-08-21</td>\n",
       "      <td>7.0</td>\n",
       "      <td>2</td>\n",
       "      <td>1</td>\n",
       "      <td>DefaultValue</td>\n",
       "      <td>9.0</td>\n",
       "      <td>99.0</td>\n",
       "    </tr>\n",
       "    <tr>\n",
       "      <th>1</th>\n",
       "      <td>2</td>\n",
       "      <td>2011-05-26</td>\n",
       "      <td>3.0</td>\n",
       "      <td>4</td>\n",
       "      <td>1</td>\n",
       "      <td>DefaultValue</td>\n",
       "      <td>7.0</td>\n",
       "      <td>NaN</td>\n",
       "    </tr>\n",
       "    <tr>\n",
       "      <th>2</th>\n",
       "      <td>3</td>\n",
       "      <td>2011-06-16</td>\n",
       "      <td>3.0</td>\n",
       "      <td>3</td>\n",
       "      <td>1</td>\n",
       "      <td>DefaultValue</td>\n",
       "      <td>6.0</td>\n",
       "      <td>NaN</td>\n",
       "    </tr>\n",
       "    <tr>\n",
       "      <th>3</th>\n",
       "      <td>4</td>\n",
       "      <td>2012-08-26</td>\n",
       "      <td>1.0</td>\n",
       "      <td>2</td>\n",
       "      <td>3</td>\n",
       "      <td>DefaultValue</td>\n",
       "      <td>3.0</td>\n",
       "      <td>NaN</td>\n",
       "    </tr>\n",
       "    <tr>\n",
       "      <th>4</th>\n",
       "      <td>5</td>\n",
       "      <td>2013-06-06</td>\n",
       "      <td>2.0</td>\n",
       "      <td>4</td>\n",
       "      <td>10</td>\n",
       "      <td>DefaultValue</td>\n",
       "      <td>6.0</td>\n",
       "      <td>NaN</td>\n",
       "    </tr>\n",
       "    <tr>\n",
       "      <th>5</th>\n",
       "      <td>6</td>\n",
       "      <td>2013-12-23</td>\n",
       "      <td>2.0</td>\n",
       "      <td>5</td>\n",
       "      <td>6</td>\n",
       "      <td>DefaultValue</td>\n",
       "      <td>7.0</td>\n",
       "      <td>NaN</td>\n",
       "    </tr>\n",
       "    <tr>\n",
       "      <th>6</th>\n",
       "      <td>7</td>\n",
       "      <td>2013-12-30</td>\n",
       "      <td>3.0</td>\n",
       "      <td>4</td>\n",
       "      <td>1</td>\n",
       "      <td>DefaultValue</td>\n",
       "      <td>7.0</td>\n",
       "      <td>NaN</td>\n",
       "    </tr>\n",
       "    <tr>\n",
       "      <th>7</th>\n",
       "      <td>8</td>\n",
       "      <td>2014-04-24</td>\n",
       "      <td>NaN</td>\n",
       "      <td>2</td>\n",
       "      <td>3</td>\n",
       "      <td>DefaultValue</td>\n",
       "      <td>2.0</td>\n",
       "      <td>NaN</td>\n",
       "    </tr>\n",
       "    <tr>\n",
       "      <th>8</th>\n",
       "      <td>9</td>\n",
       "      <td>2015-04-24</td>\n",
       "      <td>7.0</td>\n",
       "      <td>4</td>\n",
       "      <td>3</td>\n",
       "      <td>DefaultValue</td>\n",
       "      <td>11.0</td>\n",
       "      <td>NaN</td>\n",
       "    </tr>\n",
       "    <tr>\n",
       "      <th>9</th>\n",
       "      <td>10</td>\n",
       "      <td>2016-05-08</td>\n",
       "      <td>3.0</td>\n",
       "      <td>4</td>\n",
       "      <td>4</td>\n",
       "      <td>DefaultValue</td>\n",
       "      <td>7.0</td>\n",
       "      <td>NaN</td>\n",
       "    </tr>\n",
       "  </tbody>\n",
       "</table>\n",
       "</div>"
      ],
      "text/plain": [
       "   TransactionID TransactionDate  UserID  ProductID  Quantity     NewColumn  \\\n",
       "0              1      2010-08-21     7.0          2         1  DefaultValue   \n",
       "1              2      2011-05-26     3.0          4         1  DefaultValue   \n",
       "2              3      2011-06-16     3.0          3         1  DefaultValue   \n",
       "3              4      2012-08-26     1.0          2         3  DefaultValue   \n",
       "4              5      2013-06-06     2.0          4        10  DefaultValue   \n",
       "5              6      2013-12-23     2.0          5         6  DefaultValue   \n",
       "6              7      2013-12-30     3.0          4         1  DefaultValue   \n",
       "7              8      2014-04-24     NaN          2         3  DefaultValue   \n",
       "8              9      2015-04-24     7.0          4         3  DefaultValue   \n",
       "9             10      2016-05-08     3.0          4         4  DefaultValue   \n",
       "\n",
       "    Foo  Quant  \n",
       "0   9.0   99.0  \n",
       "1   7.0    NaN  \n",
       "2   6.0    NaN  \n",
       "3   3.0    NaN  \n",
       "4   6.0    NaN  \n",
       "5   7.0    NaN  \n",
       "6   7.0    NaN  \n",
       "7   2.0    NaN  \n",
       "8  11.0    NaN  \n",
       "9   7.0    NaN  "
      ]
     },
     "execution_count": 80,
     "metadata": {},
     "output_type": "execute_result"
    }
   ],
   "source": [
    "# 35. Inserting and updating values\n",
    "df.loc[0, 'Quant'] = 99  \n",
    "\n",
    "df\n",
    "\n"
   ]
  },
  {
   "cell_type": "code",
   "execution_count": 85,
   "id": "7da4b86e",
   "metadata": {},
   "outputs": [
    {
     "name": "stdout",
     "output_type": "stream",
     "text": [
      "datetime64[ns]\n"
     ]
    }
   ],
   "source": [
    "# 36. Convert TransactionDate to Date type\n",
    "df['TransactionDate'] = pd.to_datetime(df['TransactionDate'])\n",
    "print(df['TransactionDate'].dtype)"
   ]
  },
  {
   "cell_type": "code",
   "execution_count": 82,
   "id": "649392f0",
   "metadata": {},
   "outputs": [
    {
     "name": "stdout",
     "output_type": "stream",
     "text": [
      "   TransactionID TransactionDate  UserID  ProductID  Quantity     NewColumn  \\\n",
      "0              1      2010-08-21     7.0          2         1  DefaultValue   \n",
      "1              2      2011-05-26     3.0          4         1  DefaultValue   \n",
      "2              3      2011-06-16     3.0          3         1  DefaultValue   \n",
      "3              4      2012-08-26     1.0          2         3  DefaultValue   \n",
      "4              5      2013-06-06     2.0          4        10  DefaultValue   \n",
      "\n",
      "   Foo  Quant  \n",
      "0  9.0   99.0  \n",
      "1  7.0    NaN  \n",
      "2  6.0    NaN  \n",
      "3  3.0    NaN  \n",
      "4  6.0    NaN  \n"
     ]
    }
   ],
   "source": [
    "# 37. Insert new column Foo = UserID + ProductID\n",
    "df['Foo'] = df['UserID'] + df['ProductID']\n",
    "\n",
    "print(df.head())"
   ]
  },
  {
   "cell_type": "code",
   "execution_count": null,
   "id": "235d9d8c",
   "metadata": {},
   "outputs": [],
   "source": []
  }
 ],
 "metadata": {
  "kernelspec": {
   "display_name": "Python 3 (ipykernel)",
   "language": "python",
   "name": "python3"
  },
  "language_info": {
   "codemirror_mode": {
    "name": "ipython",
    "version": 3
   },
   "file_extension": ".py",
   "mimetype": "text/x-python",
   "name": "python",
   "nbconvert_exporter": "python",
   "pygments_lexer": "ipython3",
   "version": "3.11.7"
  }
 },
 "nbformat": 4,
 "nbformat_minor": 5
}
