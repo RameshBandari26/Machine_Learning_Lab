{
 "cells": [
  {
   "cell_type": "code",
   "execution_count": null,
   "id": "b81cda9d",
   "metadata": {},
   "outputs": [],
   "source": [
    "import matplotlib.pyplot as plt\n",
    "import numpy as np\n"
   ]
  },
  {
   "cell_type": "code",
   "execution_count": null,
   "id": "accd5452",
   "metadata": {},
   "outputs": [],
   "source": [
    "\n",
    "cluster1_points = [2, 4, 10, 12, 3, 11, 7]\n",
    "cluster2_points = [1, 5, 6, 8, 9, 13, 14]\n"
   ]
  },
  {
   "cell_type": "code",
   "execution_count": null,
   "id": "5916d520",
   "metadata": {},
   "outputs": [],
   "source": [
    "\n",
    "np.random.seed(42) \n",
    "X = np.random.randint(10, 100, size=(14, 2)) \n",
    "\n",
    "plt.figure(figsize=(8, 6))\n",
    "\n"
   ]
  },
  {
   "cell_type": "code",
   "execution_count": null,
   "id": "264e40d3",
   "metadata": {},
   "outputs": [],
   "source": [
    "# Cluster 1 - Red\n",
    "for i in cluster1_points:\n",
    "    plt.scatter(X[i-1, 0], X[i-1, 1], c='red', s=100, label='Cluster 1' if i == cluster1_points[0] else \"\")\n"
   ]
  },
  {
   "cell_type": "code",
   "execution_count": null,
   "id": "778c012c",
   "metadata": {},
   "outputs": [],
   "source": [
    "\n",
    "# Cluster 2 - Blue\n",
    "for i in cluster2_points:\n",
    "    plt.scatter(X[i-1, 0], X[i-1, 1], c='blue', s=100, label='Cluster 2' if i == cluster2_points[0] else \"\")\n",
    "\n",
    "\n"
   ]
  },
  {
   "cell_type": "code",
   "execution_count": null,
   "id": "3c13eade",
   "metadata": {},
   "outputs": [],
   "source": [
    "\n",
    "for i in range(14):\n",
    "    plt.text(X[i, 0]+1, X[i, 1]+1, str(i+1), fontsize=9)\n",
    "\n",
    "plt.title(\"Custom K-Means Clusters (K=2)\")\n",
    "plt.xlabel(\"X coordinate\")\n",
    "plt.ylabel(\"Y coordinate\")\n",
    "plt.legend()\n",
    "plt.grid(True)\n",
    "plt.show()"
   ]
  },
  {
   "cell_type": "code",
   "execution_count": null,
   "id": "bd34f3de",
   "metadata": {},
   "outputs": [],
   "source": []
  }
 ],
 "metadata": {
  "kernelspec": {
   "display_name": "Python 3 (ipykernel)",
   "language": "python",
   "name": "python3"
  },
  "language_info": {
   "codemirror_mode": {
    "name": "ipython",
    "version": 3
   },
   "file_extension": ".py",
   "mimetype": "text/x-python",
   "name": "python",
   "nbconvert_exporter": "python",
   "pygments_lexer": "ipython3",
   "version": "3.11.7"
  }
 },
 "nbformat": 4,
 "nbformat_minor": 5
}
