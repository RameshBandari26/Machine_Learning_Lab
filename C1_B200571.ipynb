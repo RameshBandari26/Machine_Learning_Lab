{
 "cells": [
  {
   "cell_type": "markdown",
   "metadata": {},
   "source": [
    "## ML Lab Internal Exam - SET 1\n",
    "## Name: Ramesh\n",
    "## ID: B200571\n",
    "## Class: CSE_C1"
   ]
  },
  {
   "cell_type": "markdown",
   "metadata": {},
   "source": [
    "## Dataset Description\n",
    "The classification task of this database is to determine where patients in a postoperative recovery area (after a operation) should be sent to next. Because hypothermia is a significant concern after surgery (Woolery, L. et. al. 1991), the attributes correspond roughly to body temperature measurements. \n",
    "\n",
    "\n",
    "<b>Attribute Information:</b><br>\n",
    "\n",
    "1. L-CORE (patient's internal temperature in C): <br>\n",
    "high (> 37), mid (>= 36 and <= 37), low (< 36) <br>\n",
    "2. L-SURF (patient's surface temperature in C): <br>\n",
    "high (> 36.5), mid (>= 36.5 and <= 35), low (< 35) <br>\n",
    "3. L-O2 (oxygen saturation in %): <br>\n",
    "excellent (>= 98), good (>= 90 and < 98), fair (>= 80 and < 90), poor (< 80) <br>\n",
    "4. L-BP (last measurement of blood pressure): <br>\n",
    "high (> 130/90), mid (<= 130/90 and >= 90/70), low (< 90/70) <br> \n",
    "5. SURF-STBL (stability of patient's surface temperature): <br>\n",
    "stable, mod-stable, unstable <br>\n",
    "6. CORE-STBL (stability of patient's core temperature) <br>\n",
    "stable, mod-stable, unstable <br>\n",
    "7. BP-STBL (stability of patient's blood pressure) <br>\n",
    "stable, mod-stable, unstable <br>\n",
    "8. COMFORT (patient's perceived comfort at discharge, measured as an integer between 0 and 20) <br>\n",
    "9. decision ADM-DECS (discharge decision): <br>\n",
    "I  (patient sent to Intensive Care Unit), <br>\n",
    "S (patient prepared to go home), <br>\n",
    "A (patient sent to general hospital floor)"
   ]
  },
  {
   "cell_type": "code",
   "execution_count": null,
   "metadata": {},
   "outputs": [],
   "source": [
    "# Import necessary libraries\n",
    "\n",
    "import pandas as pd\n",
    "import numpy as np\n",
    "import matplotlib.pyplot as plt\n",
    "from sklearn.model_selection import train_test_split\n",
    "from sklearn.linear_model import LinearRegression\n",
    "from sklearn.metrics import confusion_matrix, classification_report\n",
    "import seaborn as sns\n",
    "from sklearn.naive_bayes import BernoulliNB, MultinomialNB\n",
    "from sklearn.metrics import accuracy_score,accuracy_score,f1_score,precision_score, recall_score\n",
    "from sklearn.tree import DecisionTreeClassifier\n",
    "from sklearn.ensemble import RandomForestClassifier\n",
    "from sklearn.svm import SVC\n",
    "from sklearn.preprocessing import StandardScaler\n",
    "\n",
    "from sklearn.datasets import fetch_20newsgroups\n",
    "from sklearn.feature_extraction.text import CountVectorizer, TfidfVectorizer\n",
    "from sklearn.neighbors import KNeighborsClassifier\n",
    "\n",
    "from sklearn.metrics import mean_squared_error, r2_score"
   ]
  },
  {
   "cell_type": "code",
   "execution_count": 9,
   "metadata": {},
   "outputs": [
    {
     "data": {
      "text/html": [
       "<div>\n",
       "<style scoped>\n",
       "    .dataframe tbody tr th:only-of-type {\n",
       "        vertical-align: middle;\n",
       "    }\n",
       "\n",
       "    .dataframe tbody tr th {\n",
       "        vertical-align: top;\n",
       "    }\n",
       "\n",
       "    .dataframe thead th {\n",
       "        text-align: right;\n",
       "    }\n",
       "</style>\n",
       "<table border=\"1\" class=\"dataframe\">\n",
       "  <thead>\n",
       "    <tr style=\"text-align: right;\">\n",
       "      <th></th>\n",
       "      <th>L-CORE</th>\n",
       "      <th>L-SURF</th>\n",
       "      <th>L-O2</th>\n",
       "      <th>L-BP</th>\n",
       "      <th>SURF-STBL</th>\n",
       "      <th>CORE-STBL</th>\n",
       "      <th>BP-STBL</th>\n",
       "      <th>COMFORT</th>\n",
       "      <th>ADM-DECS</th>\n",
       "    </tr>\n",
       "  </thead>\n",
       "  <tbody>\n",
       "    <tr>\n",
       "      <th>0</th>\n",
       "      <td>mid</td>\n",
       "      <td>low</td>\n",
       "      <td>excellent</td>\n",
       "      <td>mid</td>\n",
       "      <td>stable</td>\n",
       "      <td>stable</td>\n",
       "      <td>stable</td>\n",
       "      <td>15.0</td>\n",
       "      <td>A</td>\n",
       "    </tr>\n",
       "    <tr>\n",
       "      <th>1</th>\n",
       "      <td>mid</td>\n",
       "      <td>high</td>\n",
       "      <td>excellent</td>\n",
       "      <td>high</td>\n",
       "      <td>stable</td>\n",
       "      <td>stable</td>\n",
       "      <td>stable</td>\n",
       "      <td>10.0</td>\n",
       "      <td>S</td>\n",
       "    </tr>\n",
       "    <tr>\n",
       "      <th>2</th>\n",
       "      <td>high</td>\n",
       "      <td>low</td>\n",
       "      <td>excellent</td>\n",
       "      <td>high</td>\n",
       "      <td>stable</td>\n",
       "      <td>stable</td>\n",
       "      <td>mod-stable</td>\n",
       "      <td>10.0</td>\n",
       "      <td>A</td>\n",
       "    </tr>\n",
       "    <tr>\n",
       "      <th>3</th>\n",
       "      <td>mid</td>\n",
       "      <td>low</td>\n",
       "      <td>good</td>\n",
       "      <td>high</td>\n",
       "      <td>stable</td>\n",
       "      <td>unstable</td>\n",
       "      <td>mod-stable</td>\n",
       "      <td>15.0</td>\n",
       "      <td>A</td>\n",
       "    </tr>\n",
       "    <tr>\n",
       "      <th>4</th>\n",
       "      <td>mid</td>\n",
       "      <td>mid</td>\n",
       "      <td>excellent</td>\n",
       "      <td>high</td>\n",
       "      <td>stable</td>\n",
       "      <td>stable</td>\n",
       "      <td>stable</td>\n",
       "      <td>10.0</td>\n",
       "      <td>A</td>\n",
       "    </tr>\n",
       "    <tr>\n",
       "      <th>...</th>\n",
       "      <td>...</td>\n",
       "      <td>...</td>\n",
       "      <td>...</td>\n",
       "      <td>...</td>\n",
       "      <td>...</td>\n",
       "      <td>...</td>\n",
       "      <td>...</td>\n",
       "      <td>...</td>\n",
       "      <td>...</td>\n",
       "    </tr>\n",
       "    <tr>\n",
       "      <th>85</th>\n",
       "      <td>mid</td>\n",
       "      <td>mid</td>\n",
       "      <td>excellent</td>\n",
       "      <td>mid</td>\n",
       "      <td>unstable</td>\n",
       "      <td>stable</td>\n",
       "      <td>stable</td>\n",
       "      <td>10.0</td>\n",
       "      <td>A</td>\n",
       "    </tr>\n",
       "    <tr>\n",
       "      <th>86</th>\n",
       "      <td>mid</td>\n",
       "      <td>mid</td>\n",
       "      <td>excellent</td>\n",
       "      <td>mid</td>\n",
       "      <td>unstable</td>\n",
       "      <td>stable</td>\n",
       "      <td>stable</td>\n",
       "      <td>15.0</td>\n",
       "      <td>S</td>\n",
       "    </tr>\n",
       "    <tr>\n",
       "      <th>87</th>\n",
       "      <td>mid</td>\n",
       "      <td>mid</td>\n",
       "      <td>NaN</td>\n",
       "      <td>mid</td>\n",
       "      <td>unstable</td>\n",
       "      <td>stable</td>\n",
       "      <td>stable</td>\n",
       "      <td>15.0</td>\n",
       "      <td>A</td>\n",
       "    </tr>\n",
       "    <tr>\n",
       "      <th>88</th>\n",
       "      <td>mid</td>\n",
       "      <td>mid</td>\n",
       "      <td>excellent</td>\n",
       "      <td>mid</td>\n",
       "      <td>unstable</td>\n",
       "      <td>stable</td>\n",
       "      <td>stable</td>\n",
       "      <td>10.0</td>\n",
       "      <td>A</td>\n",
       "    </tr>\n",
       "    <tr>\n",
       "      <th>89</th>\n",
       "      <td>mid</td>\n",
       "      <td>mid</td>\n",
       "      <td>good</td>\n",
       "      <td>mid</td>\n",
       "      <td>unstable</td>\n",
       "      <td>stable</td>\n",
       "      <td>stable</td>\n",
       "      <td>15.0</td>\n",
       "      <td>S</td>\n",
       "    </tr>\n",
       "  </tbody>\n",
       "</table>\n",
       "<p>90 rows × 9 columns</p>\n",
       "</div>"
      ],
      "text/plain": [
       "   L-CORE L-SURF       L-O2  L-BP SURF-STBL CORE-STBL     BP-STBL  COMFORT  \\\n",
       "0     mid    low  excellent   mid    stable    stable      stable     15.0   \n",
       "1     mid   high  excellent  high    stable    stable      stable     10.0   \n",
       "2    high    low  excellent  high    stable    stable  mod-stable     10.0   \n",
       "3     mid    low       good  high    stable  unstable  mod-stable     15.0   \n",
       "4     mid    mid  excellent  high    stable    stable      stable     10.0   \n",
       "..    ...    ...        ...   ...       ...       ...         ...      ...   \n",
       "85    mid    mid  excellent   mid  unstable    stable      stable     10.0   \n",
       "86    mid    mid  excellent   mid  unstable    stable      stable     15.0   \n",
       "87    mid    mid        NaN   mid  unstable    stable      stable     15.0   \n",
       "88    mid    mid  excellent   mid  unstable    stable      stable     10.0   \n",
       "89    mid    mid       good   mid  unstable    stable      stable     15.0   \n",
       "\n",
       "   ADM-DECS  \n",
       "0         A  \n",
       "1         S  \n",
       "2         A  \n",
       "3         A  \n",
       "4         A  \n",
       "..      ...  \n",
       "85        A  \n",
       "86        S  \n",
       "87        A  \n",
       "88        A  \n",
       "89        S  \n",
       "\n",
       "[90 rows x 9 columns]"
      ]
     },
     "execution_count": 9,
     "metadata": {},
     "output_type": "execute_result"
    }
   ],
   "source": [
    "#Import Dataset - set1_data.csv \n",
    "df=pd.read_csv('set1_data.csv')\n",
    "df"
   ]
  },
  {
   "cell_type": "code",
   "execution_count": 21,
   "metadata": {},
   "outputs": [
    {
     "name": "stdout",
     "output_type": "stream",
     "text": [
      "  L-CORE L-SURF       L-O2  L-BP SURF-STBL CORE-STBL     BP-STBL  COMFORT  \\\n",
      "0    mid    low  excellent   mid    stable    stable      stable     15.0   \n",
      "1    mid   high  excellent  high    stable    stable      stable     10.0   \n",
      "2   high    low  excellent  high    stable    stable  mod-stable     10.0   \n",
      "3    mid    low       good  high    stable  unstable  mod-stable     15.0   \n",
      "4    mid    mid  excellent  high    stable    stable      stable     10.0   \n",
      "\n",
      "  ADM-DECS  \n",
      "0        A  \n",
      "1        S  \n",
      "2        A  \n",
      "3        A  \n",
      "4        A  \n",
      "random \n",
      "    L-CORE L-SURF       L-O2  L-BP SURF-STBL CORE-STBL     BP-STBL  COMFORT  \\\n",
      "47    mid    mid  excellent   mid  unstable    stable      stable     10.0   \n",
      "62    mid    mid       good   mid    stable    stable    unstable     10.0   \n",
      "2    high    low  excellent  high    stable    stable  mod-stable     10.0   \n",
      "68    mid    mid  excellent  high    stable    stable      stable     10.0   \n",
      "18    mid   high       good   mid  unstable    stable    unstable     15.0   \n",
      "\n",
      "   ADM-DECS  \n",
      "47        A  \n",
      "62        A  \n",
      "2         A  \n",
      "68        A  \n",
      "18        A  \n"
     ]
    }
   ],
   "source": [
    "# Print top 5 and random 5 values - 2 Marks\n",
    "print(df.head())\n",
    "\n",
    "x=df.sample(n=5)\n",
    "print(\"random \\n\",x)"
   ]
  },
  {
   "cell_type": "code",
   "execution_count": 11,
   "metadata": {},
   "outputs": [
    {
     "name": "stdout",
     "output_type": "stream",
     "text": [
      "Index(['L-CORE', 'L-SURF', 'L-O2', 'L-BP', 'SURF-STBL', 'CORE-STBL', 'BP-STBL',\n",
      "       'COMFORT', 'ADM-DECS'],\n",
      "      dtype='object')\n"
     ]
    }
   ],
   "source": [
    "#Print column names - 1 Marks\n",
    "print(df.columns)"
   ]
  },
  {
   "cell_type": "code",
   "execution_count": 12,
   "metadata": {},
   "outputs": [
    {
     "name": "stdout",
     "output_type": "stream",
     "text": [
      "L-CORE        object\n",
      "L-SURF        object\n",
      "L-O2          object\n",
      "L-BP          object\n",
      "SURF-STBL     object\n",
      "CORE-STBL     object\n",
      "BP-STBL       object\n",
      "COMFORT      float64\n",
      "ADM-DECS      object\n",
      "dtype: object\n"
     ]
    }
   ],
   "source": [
    "#Check the data type of each column - 1 Marks\n",
    "print(df.dtypes)"
   ]
  },
  {
   "cell_type": "code",
   "execution_count": 13,
   "metadata": {},
   "outputs": [
    {
     "name": "stdout",
     "output_type": "stream",
     "text": [
      "Rows :  90\n",
      "Columns :  9\n"
     ]
    }
   ],
   "source": [
    "#Print number of rows and columns 1 Mark\n",
    "print(\"Rows : \",df.shape[0])\n",
    "print(\"Columns : \",df.shape[1])"
   ]
  },
  {
   "cell_type": "code",
   "execution_count": 14,
   "metadata": {},
   "outputs": [
    {
     "data": {
      "text/html": [
       "<div>\n",
       "<style scoped>\n",
       "    .dataframe tbody tr th:only-of-type {\n",
       "        vertical-align: middle;\n",
       "    }\n",
       "\n",
       "    .dataframe tbody tr th {\n",
       "        vertical-align: top;\n",
       "    }\n",
       "\n",
       "    .dataframe thead th {\n",
       "        text-align: right;\n",
       "    }\n",
       "</style>\n",
       "<table border=\"1\" class=\"dataframe\">\n",
       "  <thead>\n",
       "    <tr style=\"text-align: right;\">\n",
       "      <th></th>\n",
       "      <th>COMFORT</th>\n",
       "    </tr>\n",
       "  </thead>\n",
       "  <tbody>\n",
       "    <tr>\n",
       "      <th>count</th>\n",
       "      <td>87.000000</td>\n",
       "    </tr>\n",
       "    <tr>\n",
       "      <th>mean</th>\n",
       "      <td>10.942529</td>\n",
       "    </tr>\n",
       "    <tr>\n",
       "      <th>std</th>\n",
       "      <td>2.304477</td>\n",
       "    </tr>\n",
       "    <tr>\n",
       "      <th>min</th>\n",
       "      <td>5.000000</td>\n",
       "    </tr>\n",
       "    <tr>\n",
       "      <th>25%</th>\n",
       "      <td>10.000000</td>\n",
       "    </tr>\n",
       "    <tr>\n",
       "      <th>50%</th>\n",
       "      <td>10.000000</td>\n",
       "    </tr>\n",
       "    <tr>\n",
       "      <th>75%</th>\n",
       "      <td>10.000000</td>\n",
       "    </tr>\n",
       "    <tr>\n",
       "      <th>max</th>\n",
       "      <td>15.000000</td>\n",
       "    </tr>\n",
       "  </tbody>\n",
       "</table>\n",
       "</div>"
      ],
      "text/plain": [
       "         COMFORT\n",
       "count  87.000000\n",
       "mean   10.942529\n",
       "std     2.304477\n",
       "min     5.000000\n",
       "25%    10.000000\n",
       "50%    10.000000\n",
       "75%    10.000000\n",
       "max    15.000000"
      ]
     },
     "execution_count": 14,
     "metadata": {},
     "output_type": "execute_result"
    }
   ],
   "source": [
    "#Print summary statistics of all variables - 1 Mark\n",
    "df.describe()"
   ]
  },
  {
   "cell_type": "code",
   "execution_count": null,
   "metadata": {},
   "outputs": [
    {
     "name": "stdout",
     "output_type": "stream",
     "text": [
      "L-CORE       1\n",
      "L-SURF       0\n",
      "L-O2         1\n",
      "L-BP         0\n",
      "SURF-STBL    1\n",
      "CORE-STBL    0\n",
      "BP-STBL      0\n",
      "COMFORT      3\n",
      "ADM-DECS     0\n",
      "dtype: int64\n"
     ]
    }
   ],
   "source": [
    "#Print the number of missing values in each column - 1 Marks\n",
    "print(df.isnull().sum())"
   ]
  },
  {
   "cell_type": "code",
   "execution_count": 35,
   "metadata": {},
   "outputs": [
    {
     "data": {
      "text/plain": [
       "L-CORE       0\n",
       "L-SURF       0\n",
       "L-O2         0\n",
       "L-BP         0\n",
       "SURF-STBL    0\n",
       "CORE-STBL    0\n",
       "BP-STBL      0\n",
       "COMFORT      0\n",
       "ADM-DECS     0\n",
       "dtype: int64"
      ]
     },
     "execution_count": 35,
     "metadata": {},
     "output_type": "execute_result"
    }
   ],
   "source": [
    "#Impute missing values - Replace missing categorical values with mode and numerical values with mean of the column - 3 Mark\n",
    "#Print the number of missing values in each column after imputation\n",
    "\n",
    "df['L-CORE']=df['L-CORE'].fillna(df['L-CORE'].mode()[0])\n",
    "df['SURF-STBL']=df['SURF-STBL'].fillna(df['SURF-STBL'].mode()[0])\n",
    "df['L-O2']=df['L-O2'].fillna(df['L-O2'].mode()[0])\n",
    "df['COMFORT']=df['COMFORT'].fillna(df['COMFORT'].mean())\n",
    "df.isnull().sum()"
   ]
  },
  {
   "cell_type": "code",
   "execution_count": 36,
   "metadata": {},
   "outputs": [
    {
     "data": {
      "text/plain": [
       "ADM-DECS\n",
       "A    64\n",
       "S    24\n",
       "I     2\n",
       "Name: count, dtype: int64"
      ]
     },
     "execution_count": 36,
     "metadata": {},
     "output_type": "execute_result"
    }
   ],
   "source": [
    "#Print count of patients in each category - 1 Marks\n",
    "df['ADM-DECS'].value_counts()"
   ]
  },
  {
   "cell_type": "code",
   "execution_count": 37,
   "metadata": {},
   "outputs": [
    {
     "data": {
      "image/png": "[encoded data removed]",
      "text/plain": [
       "<Figure size 800x500 with 1 Axes>"
      ]
     },
     "metadata": {},
     "output_type": "display_data"
    }
   ],
   "source": [
    "#Plot histogram of values of patient's perceived comfort at discharge - 1 Marks\n",
    "\n",
    "\n",
    "column=\"COMFORT\"\n",
    "\n",
    "\n",
    "plt.figure(figsize=(8, 5))\n",
    "plt.hist(df[column], bins=30, density=True, alpha=0.6, color=\"green\", label=\"Histogram\")\n",
    "plt.legend()\n",
    "plt.show()\n"
   ]
  },
  {
   "cell_type": "code",
   "execution_count": 38,
   "metadata": {},
   "outputs": [
    {
     "data": {
      "image/png": "[encoded data removed]",
      "text/plain": [
       "<Figure size 800x600 with 4 Axes>"
      ]
     },
     "metadata": {},
     "output_type": "display_data"
    }
   ],
   "source": [
    "# Plot barchart of L-CORE, L-SURF,L-O2 and L-BP using 4X4 subplots - 3 Marks\n",
    "#num_bins = 10\n",
    "columns = [\"L-CORE\",\"L-SURF\",\"L-O2\", \"L-BP\"]\n",
    "\n",
    "plt.figure(figsize=(8, 6))\n",
    "\n",
    "for i, col in enumerate(columns, 1):\n",
    "    plt.subplot(4, 4, i)\n",
    "    df[col].value_counts().plot(kind=\"bar\", color=['skyblue', 'salmon', 'lightgreen', 'yellow'])\n",
    "    plt.title(f\"Distribution of {col}\")\n",
    "    plt.xlabel(col)\n",
    "    plt.ylabel(\"Count\")\n",
    "\n",
    "plt.tight_layout()\n",
    "plt.show()"
   ]
  },
  {
   "cell_type": "code",
   "execution_count": 64,
   "metadata": {},
   "outputs": [
    {
     "data": {
      "image/png": "[encoded data removed]",
      "text/plain": [
       "<Figure size 800x600 with 1 Axes>"
      ]
     },
     "metadata": {},
     "output_type": "display_data"
    }
   ],
   "source": [
    "# Plot pie chart of patient's surface temperature in C - 2 Mark\n",
    "plt.figure(figsize=(8, 6))\n",
    "df['SURF-STBL'].value_counts().plot(kind='pie', autopct='%1.1f%%', startangle=90, colors=['skyblue', 'salmon'])\n",
    "plt.title(\"Distribution of Patient's Surface Temperature\")\n",
    "plt.ylabel('')\n",
    "plt.show()"
   ]
  },
  {
   "cell_type": "code",
   "execution_count": 40,
   "metadata": {},
   "outputs": [
    {
     "name": "stdout",
     "output_type": "stream",
     "text": [
      "   L-CORE L-SURF       L-O2  L-BP SURF-STBL CORE-STBL     BP-STBL  COMFORT\n",
      "0     mid    low  excellent   mid    stable    stable      stable     15.0\n",
      "1     mid   high  excellent  high    stable    stable      stable     10.0\n",
      "2    high    low  excellent  high    stable    stable  mod-stable     10.0\n",
      "3     mid    low       good  high    stable  unstable  mod-stable     15.0\n",
      "4     mid    mid  excellent  high    stable    stable      stable     10.0\n",
      "..    ...    ...        ...   ...       ...       ...         ...      ...\n",
      "85    mid    mid  excellent   mid  unstable    stable      stable     10.0\n",
      "86    mid    mid  excellent   mid  unstable    stable      stable     15.0\n",
      "87    mid    mid       good   mid  unstable    stable      stable     15.0\n",
      "88    mid    mid  excellent   mid  unstable    stable      stable     10.0\n",
      "89    mid    mid       good   mid  unstable    stable      stable     15.0\n",
      "\n",
      "[90 rows x 8 columns]\n",
      "0     A\n",
      "1     S\n",
      "2     A\n",
      "3     A\n",
      "4     A\n",
      "     ..\n",
      "85    A\n",
      "86    S\n",
      "87    A\n",
      "88    A\n",
      "89    S\n",
      "Name: ADM-DECS, Length: 90, dtype: object\n"
     ]
    }
   ],
   "source": [
    "#Prepare X - input matrix and y - label vector - 1 Mark\n",
    "#col=[\"L-CORE\",\"L-SURF\",\"L-O2\", \"L-BP\",\"SURF-STBL\", \"CORE-STBL\",\"BP-STBL\",\"COMFORT\"]\n",
    "#X=df[[col]]\n",
    "#Y=df['ADM-DECS']\n",
    "X=df.drop(columns='ADM-DECS',axis=1)\n",
    "Y=df[\"ADM-DECS\"]\n",
    "print(X)\n",
    "print(Y)"
   ]
  },
  {
   "cell_type": "code",
   "execution_count": 48,
   "metadata": {},
   "outputs": [
    {
     "data": {
      "text/html": [
       "<div>\n",
       "<style scoped>\n",
       "    .dataframe tbody tr th:only-of-type {\n",
       "        vertical-align: middle;\n",
       "    }\n",
       "\n",
       "    .dataframe tbody tr th {\n",
       "        vertical-align: top;\n",
       "    }\n",
       "\n",
       "    .dataframe thead th {\n",
       "        text-align: right;\n",
       "    }\n",
       "</style>\n",
       "<table border=\"1\" class=\"dataframe\">\n",
       "  <thead>\n",
       "    <tr style=\"text-align: right;\">\n",
       "      <th></th>\n",
       "      <th>L-CORE</th>\n",
       "      <th>L-SURF</th>\n",
       "      <th>L-O2</th>\n",
       "      <th>L-BP</th>\n",
       "      <th>SURF-STBL</th>\n",
       "      <th>CORE-STBL</th>\n",
       "      <th>BP-STBL</th>\n",
       "      <th>COMFORT</th>\n",
       "      <th>ADM-DECS</th>\n",
       "    </tr>\n",
       "  </thead>\n",
       "  <tbody>\n",
       "    <tr>\n",
       "      <th>0</th>\n",
       "      <td>2</td>\n",
       "      <td>1</td>\n",
       "      <td>0</td>\n",
       "      <td>2</td>\n",
       "      <td>0</td>\n",
       "      <td>1</td>\n",
       "      <td>1</td>\n",
       "      <td>15.0</td>\n",
       "      <td>0</td>\n",
       "    </tr>\n",
       "    <tr>\n",
       "      <th>1</th>\n",
       "      <td>2</td>\n",
       "      <td>0</td>\n",
       "      <td>0</td>\n",
       "      <td>0</td>\n",
       "      <td>0</td>\n",
       "      <td>1</td>\n",
       "      <td>1</td>\n",
       "      <td>10.0</td>\n",
       "      <td>2</td>\n",
       "    </tr>\n",
       "    <tr>\n",
       "      <th>2</th>\n",
       "      <td>0</td>\n",
       "      <td>1</td>\n",
       "      <td>0</td>\n",
       "      <td>0</td>\n",
       "      <td>0</td>\n",
       "      <td>1</td>\n",
       "      <td>0</td>\n",
       "      <td>10.0</td>\n",
       "      <td>0</td>\n",
       "    </tr>\n",
       "    <tr>\n",
       "      <th>3</th>\n",
       "      <td>2</td>\n",
       "      <td>1</td>\n",
       "      <td>1</td>\n",
       "      <td>0</td>\n",
       "      <td>0</td>\n",
       "      <td>2</td>\n",
       "      <td>0</td>\n",
       "      <td>15.0</td>\n",
       "      <td>0</td>\n",
       "    </tr>\n",
       "    <tr>\n",
       "      <th>4</th>\n",
       "      <td>2</td>\n",
       "      <td>2</td>\n",
       "      <td>0</td>\n",
       "      <td>0</td>\n",
       "      <td>0</td>\n",
       "      <td>1</td>\n",
       "      <td>1</td>\n",
       "      <td>10.0</td>\n",
       "      <td>0</td>\n",
       "    </tr>\n",
       "  </tbody>\n",
       "</table>\n",
       "</div>"
      ],
      "text/plain": [
       "   L-CORE  L-SURF  L-O2  L-BP  SURF-STBL  CORE-STBL  BP-STBL  COMFORT  \\\n",
       "0       2       1     0     2          0          1        1     15.0   \n",
       "1       2       0     0     0          0          1        1     10.0   \n",
       "2       0       1     0     0          0          1        0     10.0   \n",
       "3       2       1     1     0          0          2        0     15.0   \n",
       "4       2       2     0     0          0          1        1     10.0   \n",
       "\n",
       "   ADM-DECS  \n",
       "0         0  \n",
       "1         2  \n",
       "2         0  \n",
       "3         0  \n",
       "4         0  "
      ]
     },
     "execution_count": 48,
     "metadata": {},
     "output_type": "execute_result"
    }
   ],
   "source": [
    "#Apply label encoder for categorical columns - 2 Marks\n",
    "from sklearn.preprocessing import LabelEncoder\n",
    "\n",
    "encode =LabelEncoder()\n",
    "col=[\"L-CORE\",\"L-SURF\",\"L-O2\", \"L-BP\",\"SURF-STBL\", \"CORE-STBL\",\"BP-STBL\",\"ADM-DECS\"]\n",
    "for i in col:\n",
    "    df[i]=encode.fit_transform(df[i])\n",
    "\n",
    "df.head()"
   ]
  },
  {
   "cell_type": "code",
   "execution_count": 49,
   "metadata": {},
   "outputs": [],
   "source": [
    "X=df.drop(columns='ADM-DECS',axis=1)\n",
    "Y=df[\"ADM-DECS\"]"
   ]
  },
  {
   "cell_type": "code",
   "execution_count": 50,
   "metadata": {
    "notebookRunGroups": {
     "groupValue": "1"
    }
   },
   "outputs": [
    {
     "name": "stdout",
     "output_type": "stream",
     "text": [
      "    L-CORE  L-SURF  L-O2  L-BP  SURF-STBL  CORE-STBL  BP-STBL    COMFORT\n",
      "16       1       0     1     0          1          1        0  15.000000\n",
      "19       2       2     1     2          0          1        1  10.000000\n",
      "87       2       2     1     2          1          1        1  15.000000\n",
      "35       2       2     1     2          0          1        1  10.000000\n",
      "18       2       0     1     2          1          1        2  15.000000\n",
      "..     ...     ...   ...   ...        ...        ...      ...        ...\n",
      "72       2       2     0     2          0          1        0  10.000000\n",
      "1        2       0     0     0          0          1        1  10.000000\n",
      "69       2       2     0     1          0          1        1  10.000000\n",
      "55       2       2     1     2          1          1        1  15.000000\n",
      "46       1       2     1     0          1          1        1  10.942529\n",
      "\n",
      "[63 rows x 8 columns]\n"
     ]
    }
   ],
   "source": [
    "# Split the data into train and test set  - use test size = 30% and random state = 4 : - 2 Marks\n",
    "\n",
    "x_train, x_test, y_train, y_test = train_test_split(X, Y, test_size=0.3, random_state = 4)\n",
    "print(x_train)\n"
   ]
  },
  {
   "cell_type": "code",
   "execution_count": 51,
   "metadata": {},
   "outputs": [
    {
     "name": "stdout",
     "output_type": "stream",
     "text": [
      "(63, 8)\n",
      "(63,)\n",
      "(27, 8)\n",
      "(27,)\n"
     ]
    }
   ],
   "source": [
    "#Print train and test data size\n",
    "print(x_train.shape)\n",
    "print(y_train.shape)\n",
    "print(x_test.shape)\n",
    "print(y_test.shape)"
   ]
  },
  {
   "cell_type": "code",
   "execution_count": null,
   "metadata": {},
   "outputs": [
    {
     "name": "stdout",
     "output_type": "stream",
     "text": [
      "Predicted labels:  [0 0 0 0 0 0 0 0 0 0 0 0 0 0 0 0 0 0 0 0 0 0 0 0 0 0 0]\n",
      "Actual labels:  [2 0 0 2 2 0 2 2 0 0 2 0 0 0 0 0 0 0 2 0 2 2 0 2 0 0 2]\n",
      "Accuracy:  0.5925925925925926\n",
      "Confusion Matrix: \n",
      " [[16  0]\n",
      " [11  0]]\n",
      "Classification Report: \n",
      "               precision    recall  f1-score   support\n",
      "\n",
      "           0       0.59      1.00      0.74        16\n",
      "           2       0.00      0.00      0.00        11\n",
      "\n",
      "    accuracy                           0.59        27\n",
      "   macro avg       0.30      0.50      0.37        27\n",
      "weighted avg       0.35      0.59      0.44        27\n",
      "\n"
     ]
    },
    {
     "name": "stderr",
     "output_type": "stream",
     "text": [
      "c:\\ProgramData\\anaconda3\\Lib\\site-packages\\sklearn\\metrics\\_classification.py:1344: UndefinedMetricWarning: Precision and F-score are ill-defined and being set to 0.0 in labels with no predicted samples. Use `zero_division` parameter to control this behavior.\n",
      "  _warn_prf(average, modifier, msg_start, len(result))\n",
      "c:\\ProgramData\\anaconda3\\Lib\\site-packages\\sklearn\\metrics\\_classification.py:1344: UndefinedMetricWarning: Precision and F-score are ill-defined and being set to 0.0 in labels with no predicted samples. Use `zero_division` parameter to control this behavior.\n",
      "  _warn_prf(average, modifier, msg_start, len(result))\n",
      "c:\\ProgramData\\anaconda3\\Lib\\site-packages\\sklearn\\metrics\\_classification.py:1344: UndefinedMetricWarning: Precision and F-score are ill-defined and being set to 0.0 in labels with no predicted samples. Use `zero_division` parameter to control this behavior.\n",
      "  _warn_prf(average, modifier, msg_start, len(result))\n"
     ]
    }
   ],
   "source": [
    "# Fit the Naive Bayes classifier on training data - 3 Marks\n",
    "model = BernoulliNB()\n",
    "model.fit(x_train, y_train)\n"
   ]
  },
  {
   "cell_type": "code",
   "execution_count": 53,
   "metadata": {},
   "outputs": [
    {
     "name": "stdout",
     "output_type": "stream",
     "text": [
      "Predicted labels:  [0 0 0 0 0 0 0 0 0 0 0 0 0 0 0 0 0 0 0 0 0 0 0 0 0 0 0]\n"
     ]
    }
   ],
   "source": [
    "# Make prediction on test data - 1 Marks\n",
    "\n",
    "y_pred = model.predict(x_test)\n",
    "print(\"Predicted labels: \", y_pred)"
   ]
  },
  {
   "cell_type": "code",
   "execution_count": 62,
   "metadata": {},
   "outputs": [
    {
     "name": "stdout",
     "output_type": "stream",
     "text": [
      "Confusion Matrix: \n",
      " [[16  0]\n",
      " [11  0]]\n",
      "Classification Report: \n",
      "               precision    recall  f1-score   support\n",
      "\n",
      "           0       0.59      1.00      0.74        16\n",
      "           2       0.00      0.00      0.00        11\n",
      "\n",
      "    accuracy                           0.59        27\n",
      "   macro avg       0.30      0.50      0.37        27\n",
      "weighted avg       0.35      0.59      0.44        27\n",
      "\n",
      "Accuracy:  0.5925925925925926\n",
      "Precision:  0.5925925925925926\n",
      "Recall:  0.5925925925925926\n",
      "F1 Score:  0.5925925925925926\n"
     ]
    },
    {
     "name": "stderr",
     "output_type": "stream",
     "text": [
      "c:\\ProgramData\\anaconda3\\Lib\\site-packages\\sklearn\\metrics\\_classification.py:1344: UndefinedMetricWarning: Precision and F-score are ill-defined and being set to 0.0 in labels with no predicted samples. Use `zero_division` parameter to control this behavior.\n",
      "  _warn_prf(average, modifier, msg_start, len(result))\n",
      "c:\\ProgramData\\anaconda3\\Lib\\site-packages\\sklearn\\metrics\\_classification.py:1344: UndefinedMetricWarning: Precision and F-score are ill-defined and being set to 0.0 in labels with no predicted samples. Use `zero_division` parameter to control this behavior.\n",
      "  _warn_prf(average, modifier, msg_start, len(result))\n",
      "c:\\ProgramData\\anaconda3\\Lib\\site-packages\\sklearn\\metrics\\_classification.py:1344: UndefinedMetricWarning: Precision and F-score are ill-defined and being set to 0.0 in labels with no predicted samples. Use `zero_division` parameter to control this behavior.\n",
      "  _warn_prf(average, modifier, msg_start, len(result))\n"
     ]
    }
   ],
   "source": [
    "# Check the evaluation metrics of the model - Confusion Matrix, Accuracy, Precision, Recall, F1 score - 3 Marks\n",
    "print(\"Confusion Matrix: \\n\", confusion_matrix(y_test, y_pred))         \n",
    "print(\"Classification Report: \\n\", classification_report(y_test, y_pred))\n",
    "print(\"Accuracy: \", accuracy_score(y_test, y_pred))\n",
    "print(\"Precision: \", precision_score(y_test, y_pred,average='micro'))\n",
    "print(\"Recall: \", recall_score(y_test, y_pred,average='micro'))\n",
    "print(\"F1 Score: \", f1_score(y_test, y_pred,average='micro'))\n"
   ]
  },
  {
   "cell_type": "code",
   "execution_count": 63,
   "metadata": {},
   "outputs": [
    {
     "name": "stdout",
     "output_type": "stream",
     "text": [
      "Sample Input:  [[ 2.  1.  1.  0.  1.  2.  1. 15.]]\n",
      "Probability Estimates:  [[0.85369252 0.0332021  0.11310538]]\n"
     ]
    },
    {
     "name": "stderr",
     "output_type": "stream",
     "text": [
      "c:\\ProgramData\\anaconda3\\Lib\\site-packages\\sklearn\\base.py:439: UserWarning: X does not have valid feature names, but BernoulliNB was fitted with feature names\n",
      "  warnings.warn(\n"
     ]
    }
   ],
   "source": [
    "#Apply prediction on any one sample input and print the probability estimates for each class - 1 marks\n",
    "sample_input = x_test.iloc[0].values.reshape(1, -1)\n",
    "print(\"Sample Input: \", sample_input)\n",
    "probability_estimates = model.predict_proba(sample_input)\n",
    "print(\"Probability Estimates: \", probability_estimates)\n"
   ]
  },
  {
   "cell_type": "code",
   "execution_count": null,
   "metadata": {},
   "outputs": [],
   "source": []
  }
 ],
 "metadata": {
  "kernelspec": {
   "display_name": "base",
   "language": "python",
   "name": "python3"
  },
  "language_info": {
   "codemirror_mode": {
    "name": "ipython",
    "version": 3
   },
   "file_extension": ".py",
   "mimetype": "text/x-python",
   "name": "python",
   "nbconvert_exporter": "python",
   "pygments_lexer": "ipython3",
   "version": "3.11.7"
  },
  "varInspector": {
   "cols": {
    "lenName": 16,
    "lenType": 16,
    "lenVar": 40
   },
   "kernels_config": {
    "python": {
     "delete_cmd_postfix": "",
     "delete_cmd_prefix": "del ",
     "library": "var_list.py",
     "varRefreshCmd": "print(var_dic_list())"
    },
    "r": {
     "delete_cmd_postfix": ") ",
     "delete_cmd_prefix": "rm(",
     "library": "var_list.r",
     "varRefreshCmd": "cat(var_dic_list()) "
    }
   },
   "types_to_exclude": [
    "module",
    "function",
    "builtin_function_or_method",
    "instance",
    "_Feature"
   ],
   "window_display": false
  }
 },
 "nbformat": 4,
 "nbformat_minor": 2
}
